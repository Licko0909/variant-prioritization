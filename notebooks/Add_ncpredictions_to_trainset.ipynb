{
 "cells": [
  {
   "cell_type": "code",
   "execution_count": 1,
   "metadata": {},
   "outputs": [],
   "source": [
    "import pandas as pd\n",
    "import numpy as np"
   ]
  },
  {
   "cell_type": "code",
   "execution_count": 2,
   "metadata": {},
   "outputs": [],
   "source": [
    "# data = pd.read_csv('../data/data_nc.nctools-predictions.txt', sep='\\t')\n",
    "# data['#Chrom'] = data['#Chrom'].apply(lambda x: str(x))\n",
    "# data.shape"
   ]
  },
  {
   "cell_type": "code",
   "execution_count": 3,
   "metadata": {},
   "outputs": [
    {
     "name": "stderr",
     "output_type": "stream",
     "text": [
      "//anaconda3/envs/py3_vp/lib/python3.7/site-packages/IPython/core/interactiveshell.py:3058: DtypeWarning: Columns (0,4,5,6,114,115,116,117,118,119,120,121,122,123,124,125,126,127,128,129,130,131,132,134,140,141,142,143,144,146,147,148,149,152,153,159) have mixed types. Specify dtype option on import or set low_memory=False.\n",
      "  interactivity=interactivity, compiler=compiler, result=result)\n"
     ]
    },
    {
     "data": {
      "text/plain": [
       "(82188, 160)"
      ]
     },
     "execution_count": 3,
     "metadata": {},
     "output_type": "execute_result"
    }
   ],
   "source": [
    "data = pd.read_csv('../data/data_nc.txt', sep='\\t')\n",
    "data['#Chrom'] = data['#Chrom'].apply(lambda x: str(x))\n",
    "data.shape"
   ]
  },
  {
   "cell_type": "code",
   "execution_count": null,
   "metadata": {},
   "outputs": [],
   "source": []
  },
  {
   "cell_type": "code",
   "execution_count": 4,
   "metadata": {},
   "outputs": [
    {
     "data": {
      "text/plain": [
       "Benign        79577\n",
       "Pathogenic     2611\n",
       "Name: label, dtype: int64"
      ]
     },
     "execution_count": 4,
     "metadata": {},
     "output_type": "execute_result"
    }
   ],
   "source": [
    "data.label.value_counts()"
   ]
  },
  {
   "cell_type": "code",
   "execution_count": 5,
   "metadata": {},
   "outputs": [
    {
     "data": {
      "text/plain": [
       "False    81536\n",
       "True       652\n",
       "Name: NCBoost_data, dtype: int64"
      ]
     },
     "execution_count": 5,
     "metadata": {},
     "output_type": "execute_result"
    }
   ],
   "source": [
    "data.NCBoost_data.value_counts()"
   ]
  },
  {
   "cell_type": "code",
   "execution_count": 6,
   "metadata": {},
   "outputs": [
    {
     "data": {
      "text/plain": [
       "Benign        69055\n",
       "Pathogenic     2369\n",
       "Name: label, dtype: int64"
      ]
     },
     "execution_count": 6,
     "metadata": {},
     "output_type": "execute_result"
    }
   ],
   "source": [
    "data_snvs = data[data.Ref.apply(lambda x: len(x) == 1) & data.Alt.apply(lambda x: len(x) == 1)]\n",
    "data_snvs.label.value_counts()"
   ]
  },
  {
   "cell_type": "code",
   "execution_count": 7,
   "metadata": {
    "scrolled": false
   },
   "outputs": [
    {
     "name": "stdout",
     "output_type": "stream",
     "text": [
      "(82188, 160)\n",
      "(71424, 160)\n",
      "10764 non SNVs.\n"
     ]
    }
   ],
   "source": [
    "print(data.shape)\n",
    "print(data_snvs.shape)\n",
    "print(data.shape[0] - data_snvs.shape[0], 'non SNVs.')"
   ]
  },
  {
   "cell_type": "markdown",
   "metadata": {},
   "source": [
    "Add the predictions of the nctools to the train set. For ReMM and NCBoost, the predictions are position based for SNV's. Therefore, they can only be merged with SNV variants from the training set. "
   ]
  },
  {
   "cell_type": "markdown",
   "metadata": {},
   "source": [
    "<h1>Add ReMM predictions to train set</h1>"
   ]
  },
  {
   "cell_type": "markdown",
   "metadata": {},
   "source": [
    "As the ReMM scores are comupted only for SNVs and don't contain the alleles in the file, first merge the ReMM df with a subset of the train set only containing SNV's. Then merge with the total train set. "
   ]
  },
  {
   "cell_type": "code",
   "execution_count": 8,
   "metadata": {},
   "outputs": [
    {
     "name": "stderr",
     "output_type": "stream",
     "text": [
      "//anaconda3/envs/py3_vp/lib/python3.7/site-packages/ipykernel_launcher.py:1: ParserWarning: Falling back to the 'python' engine because the 'c' engine does not support regex separators (separators > 1 char and different from '\\s+' are interpreted as regex); you can avoid this warning by specifying engine='python'.\n",
      "  \"\"\"Entry point for launching an IPython kernel.\n"
     ]
    },
    {
     "name": "stdout",
     "output_type": "stream",
     "text": [
      "(82188, 160)\n"
     ]
    }
   ],
   "source": [
    "remm = pd.read_csv('../data/nctools_predictions/ReMM_filtered.txt', sep='\\s')\n",
    "print(data.shape)"
   ]
  },
  {
   "cell_type": "code",
   "execution_count": 9,
   "metadata": {
    "scrolled": true
   },
   "outputs": [
    {
     "name": "stdout",
     "output_type": "stream",
     "text": [
      "(155268, 3)\n",
      "(77636, 3)\n"
     ]
    },
    {
     "data": {
      "text/html": [
       "<div>\n",
       "<style scoped>\n",
       "    .dataframe tbody tr th:only-of-type {\n",
       "        vertical-align: middle;\n",
       "    }\n",
       "\n",
       "    .dataframe tbody tr th {\n",
       "        vertical-align: top;\n",
       "    }\n",
       "\n",
       "    .dataframe thead th {\n",
       "        text-align: right;\n",
       "    }\n",
       "</style>\n",
       "<table border=\"1\" class=\"dataframe\">\n",
       "  <thead>\n",
       "    <tr style=\"text-align: right;\">\n",
       "      <th></th>\n",
       "      <th>#Chrom</th>\n",
       "      <th>Pos</th>\n",
       "      <th>ReMM_score</th>\n",
       "    </tr>\n",
       "  </thead>\n",
       "  <tbody>\n",
       "    <tr>\n",
       "      <td>0</td>\n",
       "      <td>1</td>\n",
       "      <td>874816</td>\n",
       "      <td>0.253</td>\n",
       "    </tr>\n",
       "    <tr>\n",
       "      <td>1</td>\n",
       "      <td>1</td>\n",
       "      <td>899926</td>\n",
       "      <td>0.490</td>\n",
       "    </tr>\n",
       "    <tr>\n",
       "      <td>2</td>\n",
       "      <td>1</td>\n",
       "      <td>905775</td>\n",
       "      <td>0.995</td>\n",
       "    </tr>\n",
       "    <tr>\n",
       "      <td>3</td>\n",
       "      <td>1</td>\n",
       "      <td>978847</td>\n",
       "      <td>0.936</td>\n",
       "    </tr>\n",
       "    <tr>\n",
       "      <td>4</td>\n",
       "      <td>1</td>\n",
       "      <td>980669</td>\n",
       "      <td>0.247</td>\n",
       "    </tr>\n",
       "  </tbody>\n",
       "</table>\n",
       "</div>"
      ],
      "text/plain": [
       "  #Chrom     Pos  ReMM_score\n",
       "0      1  874816       0.253\n",
       "1      1  899926       0.490\n",
       "2      1  905775       0.995\n",
       "3      1  978847       0.936\n",
       "4      1  980669       0.247"
      ]
     },
     "execution_count": 9,
     "metadata": {},
     "output_type": "execute_result"
    }
   ],
   "source": [
    "remm.columns = ['#Chrom', 'Pos', 'ReMM_score']\n",
    "print(remm.shape)\n",
    "remm = remm.drop_duplicates()\n",
    "print(remm.shape)\n",
    "remm.head()"
   ]
  },
  {
   "cell_type": "code",
   "execution_count": 10,
   "metadata": {},
   "outputs": [],
   "source": [
    "remm_data = data.merge(remm, on=['#Chrom', 'Pos'], how='left')"
   ]
  },
  {
   "cell_type": "code",
   "execution_count": 11,
   "metadata": {},
   "outputs": [
    {
     "name": "stdout",
     "output_type": "stream",
     "text": [
      "(82188, 161)\n"
     ]
    },
    {
     "data": {
      "text/html": [
       "<div>\n",
       "<style scoped>\n",
       "    .dataframe tbody tr th:only-of-type {\n",
       "        vertical-align: middle;\n",
       "    }\n",
       "\n",
       "    .dataframe tbody tr th {\n",
       "        vertical-align: top;\n",
       "    }\n",
       "\n",
       "    .dataframe thead th {\n",
       "        text-align: right;\n",
       "    }\n",
       "</style>\n",
       "<table border=\"1\" class=\"dataframe\">\n",
       "  <thead>\n",
       "    <tr style=\"text-align: right;\">\n",
       "      <th></th>\n",
       "      <th>#Chrom</th>\n",
       "      <th>Pos</th>\n",
       "      <th>Ref</th>\n",
       "      <th>Alt</th>\n",
       "      <th>NCBoost_closest_gene_name</th>\n",
       "      <th>NCBoost_annovar_genomic_region</th>\n",
       "      <th>NCBoost_OMIM_diseases</th>\n",
       "      <th>NCBoost_HGMD_DM_public</th>\n",
       "      <th>NCBoost_ClinVar</th>\n",
       "      <th>NCBoost_Smedley</th>\n",
       "      <th>...</th>\n",
       "      <th>max_AF</th>\n",
       "      <th>notinTest1</th>\n",
       "      <th>oldTestset</th>\n",
       "      <th>provean</th>\n",
       "      <th>revel</th>\n",
       "      <th>sample_weight</th>\n",
       "      <th>sift</th>\n",
       "      <th>source</th>\n",
       "      <th>to_be_deleted</th>\n",
       "      <th>ReMM_score</th>\n",
       "    </tr>\n",
       "  </thead>\n",
       "  <tbody>\n",
       "    <tr>\n",
       "      <td>0</td>\n",
       "      <td>1</td>\n",
       "      <td>21835920</td>\n",
       "      <td>C</td>\n",
       "      <td>T</td>\n",
       "      <td>ALPL</td>\n",
       "      <td>UTR5</td>\n",
       "      <td>Hypophosphatasia, adult |||| Odontohypophospha...</td>\n",
       "      <td>1.0</td>\n",
       "      <td>0.0</td>\n",
       "      <td>1.0</td>\n",
       "      <td>...</td>\n",
       "      <td>NaN</td>\n",
       "      <td>NaN</td>\n",
       "      <td>NaN</td>\n",
       "      <td>NaN</td>\n",
       "      <td>NaN</td>\n",
       "      <td>NaN</td>\n",
       "      <td>NaN</td>\n",
       "      <td>NaN</td>\n",
       "      <td>NaN</td>\n",
       "      <td>0.925</td>\n",
       "    </tr>\n",
       "    <tr>\n",
       "      <td>1</td>\n",
       "      <td>1</td>\n",
       "      <td>55505180</td>\n",
       "      <td>C</td>\n",
       "      <td>A</td>\n",
       "      <td>PCSK9</td>\n",
       "      <td>UTR5</td>\n",
       "      <td>Hypercholesterolemia, familial, 3</td>\n",
       "      <td>1.0</td>\n",
       "      <td>0.0</td>\n",
       "      <td>1.0</td>\n",
       "      <td>...</td>\n",
       "      <td>NaN</td>\n",
       "      <td>NaN</td>\n",
       "      <td>NaN</td>\n",
       "      <td>NaN</td>\n",
       "      <td>NaN</td>\n",
       "      <td>NaN</td>\n",
       "      <td>NaN</td>\n",
       "      <td>NaN</td>\n",
       "      <td>NaN</td>\n",
       "      <td>0.611</td>\n",
       "    </tr>\n",
       "    <tr>\n",
       "      <td>2</td>\n",
       "      <td>1</td>\n",
       "      <td>113498814</td>\n",
       "      <td>C</td>\n",
       "      <td>T</td>\n",
       "      <td>SLC16A1</td>\n",
       "      <td>UTR5</td>\n",
       "      <td>Erythrocyte lactate transporter defect |||| Hy...</td>\n",
       "      <td>1.0</td>\n",
       "      <td>1.0</td>\n",
       "      <td>1.0</td>\n",
       "      <td>...</td>\n",
       "      <td>NaN</td>\n",
       "      <td>NaN</td>\n",
       "      <td>NaN</td>\n",
       "      <td>NaN</td>\n",
       "      <td>NaN</td>\n",
       "      <td>NaN</td>\n",
       "      <td>NaN</td>\n",
       "      <td>NaN</td>\n",
       "      <td>NaN</td>\n",
       "      <td>0.987</td>\n",
       "    </tr>\n",
       "    <tr>\n",
       "      <td>3</td>\n",
       "      <td>1</td>\n",
       "      <td>209975332</td>\n",
       "      <td>G</td>\n",
       "      <td>T</td>\n",
       "      <td>IRF6</td>\n",
       "      <td>UTR5</td>\n",
       "      <td>van der Woude syndrome |||| Popliteal pterygiu...</td>\n",
       "      <td>1.0</td>\n",
       "      <td>0.0</td>\n",
       "      <td>0.0</td>\n",
       "      <td>...</td>\n",
       "      <td>NaN</td>\n",
       "      <td>NaN</td>\n",
       "      <td>NaN</td>\n",
       "      <td>NaN</td>\n",
       "      <td>NaN</td>\n",
       "      <td>NaN</td>\n",
       "      <td>NaN</td>\n",
       "      <td>NaN</td>\n",
       "      <td>NaN</td>\n",
       "      <td>0.931</td>\n",
       "    </tr>\n",
       "    <tr>\n",
       "      <td>4</td>\n",
       "      <td>1</td>\n",
       "      <td>209975361</td>\n",
       "      <td>T</td>\n",
       "      <td>A</td>\n",
       "      <td>IRF6</td>\n",
       "      <td>UTR5</td>\n",
       "      <td>van der Woude syndrome |||| Popliteal pterygiu...</td>\n",
       "      <td>1.0</td>\n",
       "      <td>0.0</td>\n",
       "      <td>1.0</td>\n",
       "      <td>...</td>\n",
       "      <td>NaN</td>\n",
       "      <td>NaN</td>\n",
       "      <td>NaN</td>\n",
       "      <td>NaN</td>\n",
       "      <td>NaN</td>\n",
       "      <td>NaN</td>\n",
       "      <td>NaN</td>\n",
       "      <td>NaN</td>\n",
       "      <td>NaN</td>\n",
       "      <td>0.692</td>\n",
       "    </tr>\n",
       "  </tbody>\n",
       "</table>\n",
       "<p>5 rows × 161 columns</p>\n",
       "</div>"
      ],
      "text/plain": [
       "  #Chrom        Pos Ref Alt NCBoost_closest_gene_name  \\\n",
       "0      1   21835920   C   T                      ALPL   \n",
       "1      1   55505180   C   A                     PCSK9   \n",
       "2      1  113498814   C   T                   SLC16A1   \n",
       "3      1  209975332   G   T                      IRF6   \n",
       "4      1  209975361   T   A                      IRF6   \n",
       "\n",
       "  NCBoost_annovar_genomic_region  \\\n",
       "0                           UTR5   \n",
       "1                           UTR5   \n",
       "2                           UTR5   \n",
       "3                           UTR5   \n",
       "4                           UTR5   \n",
       "\n",
       "                               NCBoost_OMIM_diseases  NCBoost_HGMD_DM_public  \\\n",
       "0  Hypophosphatasia, adult |||| Odontohypophospha...                     1.0   \n",
       "1                  Hypercholesterolemia, familial, 3                     1.0   \n",
       "2  Erythrocyte lactate transporter defect |||| Hy...                     1.0   \n",
       "3  van der Woude syndrome |||| Popliteal pterygiu...                     1.0   \n",
       "4  van der Woude syndrome |||| Popliteal pterygiu...                     1.0   \n",
       "\n",
       "   NCBoost_ClinVar  NCBoost_Smedley  ...  max_AF notinTest1  oldTestset  \\\n",
       "0              0.0              1.0  ...     NaN        NaN         NaN   \n",
       "1              0.0              1.0  ...     NaN        NaN         NaN   \n",
       "2              1.0              1.0  ...     NaN        NaN         NaN   \n",
       "3              0.0              0.0  ...     NaN        NaN         NaN   \n",
       "4              0.0              1.0  ...     NaN        NaN         NaN   \n",
       "\n",
       "  provean revel  sample_weight sift  source  to_be_deleted  ReMM_score  \n",
       "0     NaN   NaN            NaN  NaN     NaN            NaN       0.925  \n",
       "1     NaN   NaN            NaN  NaN     NaN            NaN       0.611  \n",
       "2     NaN   NaN            NaN  NaN     NaN            NaN       0.987  \n",
       "3     NaN   NaN            NaN  NaN     NaN            NaN       0.931  \n",
       "4     NaN   NaN            NaN  NaN     NaN            NaN       0.692  \n",
       "\n",
       "[5 rows x 161 columns]"
      ]
     },
     "execution_count": 11,
     "metadata": {},
     "output_type": "execute_result"
    }
   ],
   "source": [
    "print(remm_data.shape)\n",
    "remm_data.head()"
   ]
  },
  {
   "cell_type": "markdown",
   "metadata": {},
   "source": [
    "ReMM only provides scores for SNVs. Therefore remove the ReMM scores from MNVs in the data. "
   ]
  },
  {
   "cell_type": "code",
   "execution_count": 12,
   "metadata": {},
   "outputs": [
    {
     "name": "stdout",
     "output_type": "stream",
     "text": [
      "(82188, 160)\n",
      "(82188, 161)\n",
      "Number of SNVs 71424\n",
      "Number of MNVs 10764\n"
     ]
    }
   ],
   "source": [
    "print(data.shape)\n",
    "print(remm_data.shape)\n",
    "print('Number of SNVs', len(np.where((remm_data.Ref.apply(lambda x: len(x) == 1)) & (remm_data.Alt.apply(lambda x: len(x) == 1)))[0]))\n",
    "print('Number of MNVs', len(np.where((remm_data.Ref.apply(lambda x: len(x) != 1)) | (remm_data.Alt.apply(lambda x: len(x) != 1)))[0]))"
   ]
  },
  {
   "cell_type": "code",
   "execution_count": 13,
   "metadata": {},
   "outputs": [],
   "source": [
    "remm_data.loc[np.where((remm_data.Ref.apply(lambda x: len(x) != 1)) | (remm_data.Alt.apply(lambda x: len(x) != 1)))[0], 'ReMM_score'] = np.nan"
   ]
  },
  {
   "cell_type": "code",
   "execution_count": 14,
   "metadata": {},
   "outputs": [
    {
     "data": {
      "text/plain": [
       "10764"
      ]
     },
     "execution_count": 14,
     "metadata": {},
     "output_type": "execute_result"
    }
   ],
   "source": [
    "remm_data.ReMM_score.isna().sum()"
   ]
  },
  {
   "cell_type": "code",
   "execution_count": 15,
   "metadata": {},
   "outputs": [],
   "source": [
    "data = remm_data"
   ]
  },
  {
   "cell_type": "markdown",
   "metadata": {},
   "source": [
    "<h1>Add NCBoost predictions to train set</h1>"
   ]
  },
  {
   "cell_type": "markdown",
   "metadata": {},
   "source": []
  },
  {
   "cell_type": "code",
   "execution_count": 16,
   "metadata": {},
   "outputs": [],
   "source": [
    "# data_snvs = data[data.Ref.apply(lambda x: len(x) == 1) & data.Alt.apply(lambda x: len(x) == 1)]\n",
    "# data_snvs['#Chrom'] = data_snvs['#Chrom'].apply(lambda x: str(x)) #convert all chromosmes to string (some are int)\n",
    "# data_snvs = data_snvs[['#Chrom', 'Pos', 'Ref', 'Alt', 'GeneName']] \n",
    "# print(data_snvs.shape)\n",
    "# data_snvs.head()"
   ]
  },
  {
   "cell_type": "code",
   "execution_count": 17,
   "metadata": {},
   "outputs": [
    {
     "name": "stdout",
     "output_type": "stream",
     "text": [
      "(82188, 161) (42402, 54)\n",
      "['chr', 'pos', 'ref', 'alt', 'annovar_annotation', 'closest_gene_name', 'gene_type', 'pLI', 'familyMemberCount', 'ncRVIS', 'ncGERP', 'RVIS_percentile', 'slr_dnds', 'GDI', 'gene_age', 'UTR3', 'UTR5', 'downstream', 'intergenic', 'intronic', 'upstream', 'GC', 'CpG', 'priPhCons', 'mamPhCons', 'verPhCons', 'priPhyloP', 'mamPhyloP', 'verPhyloP', 'GerpN', 'GerpS', 'bStatistic', 'TajimasD_YRI_pvalue', 'TajimasD_CEU_pvalue', 'TajimasD_CHB_pvalue', 'FuLisD_YRI_pvalue', 'FuLisD_CEU_pvalue', 'FuLisD_CHB_pvalue', 'FuLisF_YRI_pvalue', 'FuLisF_CEU_pvalue', 'FuLisF_CHB_pvalue', 'meanDaf1000G', 'meanHet1000G', 'meanMAF1000G', 'meanMAFGnomAD', 'meanMAF_AFRGnomAD', 'meanMAF_AMRGnomAD', 'meanMAF_ASJGnomAD', 'meanMAF_EASGnomAD', 'meanMAF_FINGnomAD', 'meanMAF_NFEGnomAD', 'meanMAF_OTHGnomAD', 'CDTS', 'NCBoost']\n"
     ]
    },
    {
     "name": "stderr",
     "output_type": "stream",
     "text": [
      "//anaconda3/envs/py3_vp/lib/python3.7/site-packages/IPython/core/interactiveshell.py:3058: DtypeWarning: Columns (0) have mixed types. Specify dtype option on import or set low_memory=False.\n",
      "  interactivity=interactivity, compiler=compiler, result=result)\n"
     ]
    },
    {
     "data": {
      "text/html": [
       "<div>\n",
       "<style scoped>\n",
       "    .dataframe tbody tr th:only-of-type {\n",
       "        vertical-align: middle;\n",
       "    }\n",
       "\n",
       "    .dataframe tbody tr th {\n",
       "        vertical-align: top;\n",
       "    }\n",
       "\n",
       "    .dataframe thead th {\n",
       "        text-align: right;\n",
       "    }\n",
       "</style>\n",
       "<table border=\"1\" class=\"dataframe\">\n",
       "  <thead>\n",
       "    <tr style=\"text-align: right;\">\n",
       "      <th></th>\n",
       "      <th>#Chrom</th>\n",
       "      <th>Pos</th>\n",
       "      <th>Ref</th>\n",
       "      <th>Alt</th>\n",
       "      <th>NCBoost_predictions_closest_gene_name</th>\n",
       "      <th>NCBoost_Score</th>\n",
       "    </tr>\n",
       "  </thead>\n",
       "  <tbody>\n",
       "    <tr>\n",
       "      <td>0</td>\n",
       "      <td>1</td>\n",
       "      <td>980669</td>\n",
       "      <td>A</td>\n",
       "      <td>G</td>\n",
       "      <td>AGRN</td>\n",
       "      <td>0.208069</td>\n",
       "    </tr>\n",
       "    <tr>\n",
       "      <td>1</td>\n",
       "      <td>1</td>\n",
       "      <td>980948</td>\n",
       "      <td>C</td>\n",
       "      <td>T</td>\n",
       "      <td>AGRN</td>\n",
       "      <td>0.147836</td>\n",
       "    </tr>\n",
       "    <tr>\n",
       "      <td>2</td>\n",
       "      <td>1</td>\n",
       "      <td>981087</td>\n",
       "      <td>A</td>\n",
       "      <td>G</td>\n",
       "      <td>AGRN</td>\n",
       "      <td>0.183710</td>\n",
       "    </tr>\n",
       "    <tr>\n",
       "      <td>3</td>\n",
       "      <td>1</td>\n",
       "      <td>981328</td>\n",
       "      <td>C</td>\n",
       "      <td>G</td>\n",
       "      <td>AGRN</td>\n",
       "      <td>0.311922</td>\n",
       "    </tr>\n",
       "    <tr>\n",
       "      <td>4</td>\n",
       "      <td>1</td>\n",
       "      <td>982356</td>\n",
       "      <td>G</td>\n",
       "      <td>A</td>\n",
       "      <td>AGRN</td>\n",
       "      <td>0.145453</td>\n",
       "    </tr>\n",
       "  </tbody>\n",
       "</table>\n",
       "</div>"
      ],
      "text/plain": [
       "  #Chrom     Pos Ref Alt NCBoost_predictions_closest_gene_name  NCBoost_Score\n",
       "0      1  980669   A   G                                  AGRN       0.208069\n",
       "1      1  980948   C   T                                  AGRN       0.147836\n",
       "2      1  981087   A   G                                  AGRN       0.183710\n",
       "3      1  981328   C   G                                  AGRN       0.311922\n",
       "4      1  982356   G   A                                  AGRN       0.145453"
      ]
     },
     "execution_count": 17,
     "metadata": {},
     "output_type": "execute_result"
    }
   ],
   "source": [
    "ncboost = pd.read_csv('../data/nctools_predictions/data_nc.ncboost.annotated.tsv', sep='\\t')\n",
    "print(data.shape, ncboost.shape)\n",
    "print(ncboost.columns.tolist())\n",
    "ncboost = ncboost[['chr', 'pos', 'ref', 'alt', 'closest_gene_name', 'NCBoost']]\n",
    "ncboost.columns = ['#Chrom', 'Pos', 'Ref', 'Alt', 'NCBoost_predictions_closest_gene_name', 'NCBoost_Score']\n",
    "ncboost['#Chrom'] = ncboost['#Chrom'].apply(lambda x: str(x)) #convert all chromosmes to string (some are int)\n",
    "ncboost.head()"
   ]
  },
  {
   "cell_type": "code",
   "execution_count": 18,
   "metadata": {},
   "outputs": [
    {
     "name": "stdout",
     "output_type": "stream",
     "text": [
      "(42402, 6)\n",
      "(42370, 6)\n"
     ]
    }
   ],
   "source": [
    "print(ncboost.shape)\n",
    "ncboost = ncboost.drop_duplicates()\n",
    "print(ncboost.shape)"
   ]
  },
  {
   "cell_type": "code",
   "execution_count": 19,
   "metadata": {},
   "outputs": [
    {
     "name": "stdout",
     "output_type": "stream",
     "text": [
      "Merging NCBoost data on Chrom, Pos and GeneName\n",
      "(82188, 161)\n",
      "(83215, 165)\n",
      "Percentage of variants without NCBoost score: 65.05\n",
      "\n",
      "Merging NCBoost data on Chrom, Pos, GeneName, Ref and Alt\n",
      "(82188, 161)\n",
      "(82188, 163)\n",
      "Percentage of variants without NCBoost score: 66.22\n",
      "\n",
      "Merging NCBoost data on Chrom, Pos\n",
      "(82188, 161)\n",
      "(84564, 165)\n",
      "Percentage of variants without NCBoost score: 51.93\n"
     ]
    }
   ],
   "source": [
    "\n",
    "print('Merging NCBoost data on Chrom, Pos and GeneName')\n",
    "print(data.shape)\n",
    "ncboost_data = data.merge(ncboost, right_on=['#Chrom', 'Pos', 'NCBoost_predictions_closest_gene_name'], left_on=['#Chrom', 'Pos', 'GeneName'], how='left')\n",
    "print(ncboost_data.shape)\n",
    "print('Percentage of variants without NCBoost score:', round(ncboost_data.NCBoost_Score.isna().sum()/ncboost_data.shape[0]*100,2))\n",
    "\n",
    "print('\\nMerging NCBoost data on Chrom, Pos, GeneName, Ref and Alt')\n",
    "print(data.shape)\n",
    "ncboost_data = data.merge(ncboost, right_on=['#Chrom', 'Pos', 'Ref', 'Alt', 'NCBoost_predictions_closest_gene_name'], left_on=['#Chrom', 'Pos', 'Ref', 'Alt', 'GeneName'], how='left')\n",
    "print(ncboost_data.shape)\n",
    "print('Percentage of variants without NCBoost score:', round(ncboost_data.NCBoost_Score.isna().sum()/ncboost_data.shape[0]*100,2))\n",
    "\n",
    "print('\\nMerging NCBoost data on Chrom, Pos')\n",
    "print(data.shape)\n",
    "ncboost_data = data.merge(ncboost, right_on=['#Chrom', 'Pos'], left_on=['#Chrom', 'Pos'], how='left')\n",
    "print(ncboost_data.shape)\n",
    "\n",
    "print('Percentage of variants without NCBoost score:', round(ncboost_data.NCBoost_Score.isna().sum()/ncboost_data.shape[0]*100,2))\n"
   ]
  },
  {
   "cell_type": "markdown",
   "metadata": {},
   "source": [
    "There are multiple ways to merge them. The authors of NCBoost said that the scores are position specific, not allele specific. However, NCBoost does give multiple scores for the same variant related to different genes (manually scanning the file they don't seem to differ much). Therefore, we can merge them on chromosome, position, gene name and alleles, or only on chromosome and position. The first one will be more correct but the second one yields more scores for variants. "
   ]
  },
  {
   "cell_type": "code",
   "execution_count": 20,
   "metadata": {},
   "outputs": [
    {
     "name": "stdout",
     "output_type": "stream",
     "text": [
      "Merging NCBoost data on Chrom, Pos, GeneName, Ref and Alt\n",
      "(82188, 161)\n",
      "(82188, 163)\n"
     ]
    }
   ],
   "source": [
    "print('Merging NCBoost data on Chrom, Pos, GeneName, Ref and Alt')\n",
    "print(data.shape)\n",
    "ncboost_data = data.merge(ncboost, right_on=['#Chrom', 'Pos', 'Ref', 'Alt', 'NCBoost_predictions_closest_gene_name'], left_on=['#Chrom', 'Pos', 'Ref', 'Alt', 'GeneName'], how='left')\n",
    "print(ncboost_data.shape)\n"
   ]
  },
  {
   "cell_type": "code",
   "execution_count": 21,
   "metadata": {},
   "outputs": [
    {
     "data": {
      "text/plain": [
       "(82188, 163)"
      ]
     },
     "execution_count": 21,
     "metadata": {},
     "output_type": "execute_result"
    }
   ],
   "source": [
    "data = ncboost_data\n",
    "data.shape"
   ]
  },
  {
   "cell_type": "code",
   "execution_count": 22,
   "metadata": {},
   "outputs": [
    {
     "name": "stdout",
     "output_type": "stream",
     "text": [
      "Merging NCBoost data on Chrom and Pos\n",
      "(42370, 6)\n",
      "(41271, 6)\n",
      "(82188, 164)\n"
     ]
    }
   ],
   "source": [
    "print('Merging NCBoost data on Chrom and Pos')\n",
    "print(ncboost.shape)\n",
    "ncboost = ncboost.rename({'NCBoost_Score': 'NCBoost_Score-merged-chrom-pos'}, axis='columns')\n",
    "ncboost_dropped_duplicates = ncboost.drop_duplicates(subset=['#Chrom', 'Pos'])\n",
    "print(ncboost_dropped_duplicates.shape)\n",
    "ncboost_data = data.merge(ncboost_dropped_duplicates[['#Chrom', 'Pos', 'NCBoost_Score-merged-chrom-pos']], on=['#Chrom', 'Pos'], how='left')\n",
    "print(ncboost_data.shape)"
   ]
  },
  {
   "cell_type": "code",
   "execution_count": 23,
   "metadata": {},
   "outputs": [],
   "source": [
    "data = ncboost_data"
   ]
  },
  {
   "cell_type": "code",
   "execution_count": 24,
   "metadata": {},
   "outputs": [],
   "source": [
    "data.loc[np.where((data.Ref.apply(lambda x: len(x) != 1)) | (data.Alt.apply(lambda x: len(x) != 1)))[0], 'NCBoost_Score'] = np.nan\n",
    "data.loc[np.where((data.Ref.apply(lambda x: len(x) != 1)) | (data.Alt.apply(lambda x: len(x) != 1)))[0], 'NCBoost_Score-merged-chrom-pos'] = np.nan"
   ]
  },
  {
   "cell_type": "code",
   "execution_count": null,
   "metadata": {},
   "outputs": [],
   "source": []
  },
  {
   "cell_type": "code",
   "execution_count": null,
   "metadata": {},
   "outputs": [],
   "source": []
  },
  {
   "cell_type": "code",
   "execution_count": null,
   "metadata": {},
   "outputs": [],
   "source": []
  },
  {
   "cell_type": "code",
   "execution_count": null,
   "metadata": {},
   "outputs": [],
   "source": []
  },
  {
   "cell_type": "code",
   "execution_count": null,
   "metadata": {},
   "outputs": [],
   "source": []
  },
  {
   "cell_type": "markdown",
   "metadata": {},
   "source": [
    "<h3>Add NCBoost precomputed scores</h3>"
   ]
  },
  {
   "cell_type": "code",
   "execution_count": 25,
   "metadata": {},
   "outputs": [
    {
     "name": "stdout",
     "output_type": "stream",
     "text": [
      "(36121, 6)\n"
     ]
    },
    {
     "data": {
      "text/html": [
       "<div>\n",
       "<style scoped>\n",
       "    .dataframe tbody tr th:only-of-type {\n",
       "        vertical-align: middle;\n",
       "    }\n",
       "\n",
       "    .dataframe tbody tr th {\n",
       "        vertical-align: top;\n",
       "    }\n",
       "\n",
       "    .dataframe thead th {\n",
       "        text-align: right;\n",
       "    }\n",
       "</style>\n",
       "<table border=\"1\" class=\"dataframe\">\n",
       "  <thead>\n",
       "    <tr style=\"text-align: right;\">\n",
       "      <th></th>\n",
       "      <th>#Chrom</th>\n",
       "      <th>Pos</th>\n",
       "      <th>region</th>\n",
       "      <th>NCBoost_precomputed_closest_gene_name</th>\n",
       "      <th>NCBoost_precomputed_score</th>\n",
       "      <th>NCBoost_precomputed_chr_rank_perc</th>\n",
       "    </tr>\n",
       "  </thead>\n",
       "  <tbody>\n",
       "    <tr>\n",
       "      <td>0</td>\n",
       "      <td>1</td>\n",
       "      <td>899926</td>\n",
       "      <td>intronic</td>\n",
       "      <td>KLHL17</td>\n",
       "      <td>0.095736</td>\n",
       "      <td>0.758251</td>\n",
       "    </tr>\n",
       "    <tr>\n",
       "      <td>1</td>\n",
       "      <td>1</td>\n",
       "      <td>980669</td>\n",
       "      <td>intronic</td>\n",
       "      <td>AGRN</td>\n",
       "      <td>0.164826</td>\n",
       "      <td>0.866997</td>\n",
       "    </tr>\n",
       "    <tr>\n",
       "      <td>2</td>\n",
       "      <td>1</td>\n",
       "      <td>980948</td>\n",
       "      <td>intronic</td>\n",
       "      <td>AGRN</td>\n",
       "      <td>0.111841</td>\n",
       "      <td>0.792821</td>\n",
       "    </tr>\n",
       "    <tr>\n",
       "      <td>3</td>\n",
       "      <td>1</td>\n",
       "      <td>981087</td>\n",
       "      <td>intronic</td>\n",
       "      <td>AGRN</td>\n",
       "      <td>0.131175</td>\n",
       "      <td>0.825299</td>\n",
       "    </tr>\n",
       "    <tr>\n",
       "      <td>4</td>\n",
       "      <td>1</td>\n",
       "      <td>981328</td>\n",
       "      <td>intronic</td>\n",
       "      <td>AGRN</td>\n",
       "      <td>0.255828</td>\n",
       "      <td>0.930296</td>\n",
       "    </tr>\n",
       "  </tbody>\n",
       "</table>\n",
       "</div>"
      ],
      "text/plain": [
       "  #Chrom     Pos    region NCBoost_precomputed_closest_gene_name  \\\n",
       "0      1  899926  intronic                                KLHL17   \n",
       "1      1  980669  intronic                                  AGRN   \n",
       "2      1  980948  intronic                                  AGRN   \n",
       "3      1  981087  intronic                                  AGRN   \n",
       "4      1  981328  intronic                                  AGRN   \n",
       "\n",
       "   NCBoost_precomputed_score  NCBoost_precomputed_chr_rank_perc  \n",
       "0                   0.095736                           0.758251  \n",
       "1                   0.164826                           0.866997  \n",
       "2                   0.111841                           0.792821  \n",
       "3                   0.131175                           0.825299  \n",
       "4                   0.255828                           0.930296  "
      ]
     },
     "execution_count": 25,
     "metadata": {},
     "output_type": "execute_result"
    }
   ],
   "source": [
    "ncboost_precomputed = pd.read_csv('../data/nctools_predictions/NCBoost_precomputed_predictions.txt', sep='\\t')\n",
    "ncboost_precomputed.columns = ['#Chrom', 'Pos', 'region', 'NCBoost_precomputed_closest_gene_name', 'NCBoost_precomputed_score', 'NCBoost_precomputed_chr_rank_perc']\n",
    "print(ncboost_precomputed.shape)\n",
    "ncboost_precomputed.head()"
   ]
  },
  {
   "cell_type": "code",
   "execution_count": null,
   "metadata": {},
   "outputs": [],
   "source": []
  },
  {
   "cell_type": "code",
   "execution_count": null,
   "metadata": {},
   "outputs": [],
   "source": []
  },
  {
   "cell_type": "code",
   "execution_count": 26,
   "metadata": {},
   "outputs": [
    {
     "name": "stdout",
     "output_type": "stream",
     "text": [
      "Merging NCBoost data on Chrom, Pos and GeneName\n",
      "(82188, 166)\n",
      "Percentage of variants without NCBoost score: 65.48\n",
      "\n",
      "Merging NCBoost data on Chrom and Pos\n",
      "(82188, 164)\n",
      "(82188, 165)\n",
      "Percentage of variants without NCBoost score: 54.81\n"
     ]
    }
   ],
   "source": [
    "print('Merging NCBoost data on Chrom, Pos and GeneName')\n",
    "ncboost_data = data.merge(ncboost_precomputed[['#Chrom', 'Pos', 'NCBoost_precomputed_score', 'NCBoost_precomputed_closest_gene_name']].drop_duplicates(['#Chrom', 'Pos', 'NCBoost_precomputed_closest_gene_name']), right_on=['#Chrom', 'Pos', 'NCBoost_precomputed_closest_gene_name'], left_on=['#Chrom', 'Pos', 'GeneName'], how='left')\n",
    "print(ncboost_data.shape)\n",
    "print('Percentage of variants without NCBoost score:', round(ncboost_data.NCBoost_precomputed_score.isna().sum()/ncboost_data.shape[0]*100,2))\n",
    "\n",
    "print('\\nMerging NCBoost data on Chrom and Pos')\n",
    "print(data.shape)\n",
    "ncboost_data = data.merge(ncboost_precomputed[['#Chrom', 'Pos', 'NCBoost_precomputed_score']].drop_duplicates(['#Chrom', 'Pos']), right_on=['#Chrom', 'Pos'], left_on=['#Chrom', 'Pos'], how='left')\n",
    "print(ncboost_data.shape)\n",
    "print('Percentage of variants without NCBoost score:', round(ncboost_data.NCBoost_precomputed_score.isna().sum()/ncboost_data.shape[0]*100,2))\n"
   ]
  },
  {
   "cell_type": "code",
   "execution_count": 27,
   "metadata": {},
   "outputs": [
    {
     "name": "stdout",
     "output_type": "stream",
     "text": [
      "Merging NCBoost data on Chrom, Pos and GeneName\n",
      "(82188, 167)\n"
     ]
    }
   ],
   "source": [
    "print('Merging NCBoost data on Chrom, Pos and GeneName')\n",
    "ncboost_data = data.merge(ncboost_precomputed[['#Chrom', 'Pos', 'NCBoost_precomputed_score', 'NCBoost_precomputed_chr_rank_perc', 'NCBoost_precomputed_closest_gene_name']].drop_duplicates(['#Chrom', 'Pos', 'NCBoost_precomputed_closest_gene_name']), right_on=['#Chrom', 'Pos', 'NCBoost_precomputed_closest_gene_name'], left_on=['#Chrom', 'Pos', 'GeneName'], how='left')\n",
    "print(ncboost_data.shape)"
   ]
  },
  {
   "cell_type": "code",
   "execution_count": 28,
   "metadata": {},
   "outputs": [],
   "source": [
    "data = ncboost_data"
   ]
  },
  {
   "cell_type": "code",
   "execution_count": 29,
   "metadata": {},
   "outputs": [
    {
     "name": "stdout",
     "output_type": "stream",
     "text": [
      "Merging NCBoost data on Chrom and Pos\n"
     ]
    },
    {
     "data": {
      "text/plain": [
       "(82188, 169)"
      ]
     },
     "execution_count": 29,
     "metadata": {},
     "output_type": "execute_result"
    }
   ],
   "source": [
    "print('Merging NCBoost data on Chrom and Pos')\n",
    "ncboost_precomputed = ncboost_precomputed.rename({'NCBoost_precomputed_score': 'NCBoost_precomputed_score-merged-chrom-pos', 'NCBoost_precomputed_chr_rank_perc': 'NCBoost_precomputed_chr_rank_perc-merged-chrom-pos'}, axis=1)\n",
    "ncboost_data = data.merge(ncboost_precomputed[['#Chrom', 'Pos', 'NCBoost_precomputed_score-merged-chrom-pos', 'NCBoost_precomputed_chr_rank_perc-merged-chrom-pos']].drop_duplicates(['#Chrom', 'Pos']), right_on=['#Chrom', 'Pos'], left_on=['#Chrom', 'Pos'], how='left')\n",
    "ncboost_data.shape"
   ]
  },
  {
   "cell_type": "code",
   "execution_count": 30,
   "metadata": {},
   "outputs": [],
   "source": [
    "data = ncboost_data"
   ]
  },
  {
   "cell_type": "code",
   "execution_count": 31,
   "metadata": {},
   "outputs": [],
   "source": [
    "data.loc[np.where((data.Ref.apply(lambda x: len(x) != 1)) | (data.Alt.apply(lambda x: len(x) != 1)))[0], 'NCBoost_precomputed_score'] = np.nan\n",
    "data.loc[np.where((data.Ref.apply(lambda x: len(x) != 1)) | (data.Alt.apply(lambda x: len(x) != 1)))[0], 'NCBoost_precomputed_score-merged-chrom-pos'] = np.nan\n",
    "data.loc[np.where((data.Ref.apply(lambda x: len(x) != 1)) | (data.Alt.apply(lambda x: len(x) != 1)))[0], 'NCBoost_precomputed_chr_rank_perc'] = np.nan\n",
    "data.loc[np.where((data.Ref.apply(lambda x: len(x) != 1)) | (data.Alt.apply(lambda x: len(x) != 1)))[0], 'NCBoost_precomputed_chr_rank_perc-merged-chrom-pos'] = np.nan"
   ]
  },
  {
   "cell_type": "code",
   "execution_count": null,
   "metadata": {},
   "outputs": [],
   "source": []
  },
  {
   "cell_type": "markdown",
   "metadata": {},
   "source": [
    "<h3>NCBoost scores summary</h3>"
   ]
  },
  {
   "cell_type": "code",
   "execution_count": 32,
   "metadata": {},
   "outputs": [
    {
     "name": "stdout",
     "output_type": "stream",
     "text": [
      "27760 variants for NCBoost_Score\n",
      "38391 variants for NCBoost_Score-merged-chrom-pos\n",
      "23795 variants for NCBoost_precomputed_score\n",
      "23795 variants for NCBoost_precomputed_chr_rank_perc\n",
      "28371 variants for NCBoost_precomputed_closest_gene_name\n",
      "31542 variants for NCBoost_precomputed_score-merged-chrom-pos\n",
      "31542 variants for NCBoost_precomputed_chr_rank_perc-merged-chrom-pos\n"
     ]
    }
   ],
   "source": [
    "for x in data.columns:\n",
    "    if 'NCBoost_Score' in x or 'NCBoost_precomputed' in x:\n",
    "       print(data.shape[0] - data[x].isna().sum(), 'variants for', x)"
   ]
  },
  {
   "cell_type": "code",
   "execution_count": null,
   "metadata": {},
   "outputs": [],
   "source": []
  },
  {
   "cell_type": "markdown",
   "metadata": {},
   "source": [
    "<h1>Add DeepSEA predictions to train set</h1>"
   ]
  },
  {
   "cell_type": "markdown",
   "metadata": {},
   "source": [
    "Here, the functional significance DeepSEA scores are added to the train set.\n",
    "\n",
    "TODO: also use the DeepSEA classifiers for the variants in the train set.\n",
    "\n",
    "See: http://deepsea.princeton.edu/help/. \"We provide three classifiers trained on HGMD mutations, eQTLs and GWAS lead SNPs respectively. The first is likely appropriate for de novo mutation while the later two are likely appropriate for common variants. We also provide an unsupervised score named functional signficance score - it is not biased by any variant training set but may not have as strong performance as classifiers.\""
   ]
  },
  {
   "cell_type": "code",
   "execution_count": 33,
   "metadata": {},
   "outputs": [
    {
     "data": {
      "text/html": [
       "<div>\n",
       "<style scoped>\n",
       "    .dataframe tbody tr th:only-of-type {\n",
       "        vertical-align: middle;\n",
       "    }\n",
       "\n",
       "    .dataframe tbody tr th {\n",
       "        vertical-align: top;\n",
       "    }\n",
       "\n",
       "    .dataframe thead th {\n",
       "        text-align: right;\n",
       "    }\n",
       "</style>\n",
       "<table border=\"1\" class=\"dataframe\">\n",
       "  <thead>\n",
       "    <tr style=\"text-align: right;\">\n",
       "      <th></th>\n",
       "      <th>#Chrom</th>\n",
       "      <th>Pos</th>\n",
       "      <th>Ref</th>\n",
       "      <th>Alt</th>\n",
       "      <th>DeepSEA_Functional_significance_score</th>\n",
       "    </tr>\n",
       "  </thead>\n",
       "  <tbody>\n",
       "    <tr>\n",
       "      <td>72601</td>\n",
       "      <td>8</td>\n",
       "      <td>145008443</td>\n",
       "      <td>A</td>\n",
       "      <td>T</td>\n",
       "      <td>0.000010</td>\n",
       "    </tr>\n",
       "    <tr>\n",
       "      <td>40518</td>\n",
       "      <td>19</td>\n",
       "      <td>11200088</td>\n",
       "      <td>C</td>\n",
       "      <td>T</td>\n",
       "      <td>0.000013</td>\n",
       "    </tr>\n",
       "    <tr>\n",
       "      <td>40514</td>\n",
       "      <td>19</td>\n",
       "      <td>11200085</td>\n",
       "      <td>C</td>\n",
       "      <td>T</td>\n",
       "      <td>0.000015</td>\n",
       "    </tr>\n",
       "    <tr>\n",
       "      <td>73328</td>\n",
       "      <td>9</td>\n",
       "      <td>35657869</td>\n",
       "      <td>C</td>\n",
       "      <td>T</td>\n",
       "      <td>0.000016</td>\n",
       "    </tr>\n",
       "    <tr>\n",
       "      <td>67927</td>\n",
       "      <td>6</td>\n",
       "      <td>152702540</td>\n",
       "      <td>C</td>\n",
       "      <td>T</td>\n",
       "      <td>0.000017</td>\n",
       "    </tr>\n",
       "  </tbody>\n",
       "</table>\n",
       "</div>"
      ],
      "text/plain": [
       "      #Chrom        Pos Ref Alt  DeepSEA_Functional_significance_score\n",
       "72601      8  145008443   A   T                               0.000010\n",
       "40518     19   11200088   C   T                               0.000013\n",
       "40514     19   11200085   C   T                               0.000015\n",
       "73328      9   35657869   C   T                               0.000016\n",
       "67927      6  152702540   C   T                               0.000017"
      ]
     },
     "execution_count": 33,
     "metadata": {},
     "output_type": "execute_result"
    }
   ],
   "source": [
    "deepsea = pd.read_csv('../data/nctools_predictions/deepsea_jobs/infile.vcf.out.funsig', index_col=0)\n",
    "deepsea = deepsea.drop(['name'], axis=1)\n",
    "deepsea.columns = ['#Chrom', 'Pos', 'Ref', 'Alt', 'DeepSEA_Functional_significance_score']\n",
    "deepsea['#Chrom'] = deepsea['#Chrom'].apply(lambda x: x[3:])\n",
    "deepsea.head()"
   ]
  },
  {
   "cell_type": "code",
   "execution_count": 34,
   "metadata": {},
   "outputs": [],
   "source": [
    "merged = data.merge(deepsea, on=['#Chrom', 'Pos', 'Ref', 'Alt'], how='left')"
   ]
  },
  {
   "cell_type": "code",
   "execution_count": 35,
   "metadata": {},
   "outputs": [
    {
     "data": {
      "text/plain": [
       "(82188, 170)"
      ]
     },
     "execution_count": 35,
     "metadata": {},
     "output_type": "execute_result"
    }
   ],
   "source": [
    "merged.shape"
   ]
  },
  {
   "cell_type": "code",
   "execution_count": 36,
   "metadata": {},
   "outputs": [],
   "source": [
    "data = merged"
   ]
  },
  {
   "cell_type": "code",
   "execution_count": null,
   "metadata": {},
   "outputs": [],
   "source": []
  },
  {
   "cell_type": "code",
   "execution_count": null,
   "metadata": {},
   "outputs": [],
   "source": []
  },
  {
   "cell_type": "code",
   "execution_count": null,
   "metadata": {},
   "outputs": [],
   "source": []
  },
  {
   "cell_type": "code",
   "execution_count": null,
   "metadata": {},
   "outputs": [],
   "source": []
  },
  {
   "cell_type": "markdown",
   "metadata": {},
   "source": [
    "<h1>Add Eigen predictions to train set</h1>"
   ]
  },
  {
   "cell_type": "code",
   "execution_count": 37,
   "metadata": {},
   "outputs": [
    {
     "name": "stderr",
     "output_type": "stream",
     "text": [
      "//anaconda3/envs/py3_vp/lib/python3.7/site-packages/IPython/core/interactiveshell.py:3058: DtypeWarning: Columns (6,7,9,10) have mixed types. Specify dtype option on import or set low_memory=False.\n",
      "  interactivity=interactivity, compiler=compiler, result=result)\n"
     ]
    },
    {
     "data": {
      "text/html": [
       "<div>\n",
       "<style scoped>\n",
       "    .dataframe tbody tr th:only-of-type {\n",
       "        vertical-align: middle;\n",
       "    }\n",
       "\n",
       "    .dataframe tbody tr th {\n",
       "        vertical-align: top;\n",
       "    }\n",
       "\n",
       "    .dataframe thead th {\n",
       "        text-align: right;\n",
       "    }\n",
       "</style>\n",
       "<table border=\"1\" class=\"dataframe\">\n",
       "  <thead>\n",
       "    <tr style=\"text-align: right;\">\n",
       "      <th></th>\n",
       "      <th>chr</th>\n",
       "      <th>position</th>\n",
       "      <th>ref</th>\n",
       "      <th>alt</th>\n",
       "      <th>GERP_NR</th>\n",
       "      <th>GERP_RS</th>\n",
       "      <th>PhyloPri</th>\n",
       "      <th>PhyloPla</th>\n",
       "      <th>PhyloVer</th>\n",
       "      <th>PhastPri</th>\n",
       "      <th>...</th>\n",
       "      <th>PolIISig</th>\n",
       "      <th>PolIIPval</th>\n",
       "      <th>ctcfSig</th>\n",
       "      <th>ctcfPval</th>\n",
       "      <th>cmycSig</th>\n",
       "      <th>cmycPval</th>\n",
       "      <th>Eigen-raw</th>\n",
       "      <th>Eigen-phred</th>\n",
       "      <th>Eigen-PC-raw</th>\n",
       "      <th>Eigen-PC-phred</th>\n",
       "    </tr>\n",
       "  </thead>\n",
       "  <tbody>\n",
       "    <tr>\n",
       "      <td>0</td>\n",
       "      <td>1</td>\n",
       "      <td>874714</td>\n",
       "      <td>C</td>\n",
       "      <td>A</td>\n",
       "      <td>3.83</td>\n",
       "      <td>1.7100</td>\n",
       "      <td>0.591</td>\n",
       "      <td>0.938</td>\n",
       "      <td>0.326</td>\n",
       "      <td>0.008</td>\n",
       "      <td>...</td>\n",
       "      <td>0.1700</td>\n",
       "      <td>8.48</td>\n",
       "      <td>3.8276</td>\n",
       "      <td>16.00</td>\n",
       "      <td>0.1533</td>\n",
       "      <td>6.42</td>\n",
       "      <td>1.895022</td>\n",
       "      <td>27.5634</td>\n",
       "      <td>5.274241</td>\n",
       "      <td>27.0578</td>\n",
       "    </tr>\n",
       "    <tr>\n",
       "      <td>1</td>\n",
       "      <td>1</td>\n",
       "      <td>899926</td>\n",
       "      <td>G</td>\n",
       "      <td>A</td>\n",
       "      <td>2.74</td>\n",
       "      <td>-5.4700</td>\n",
       "      <td>0.109</td>\n",
       "      <td>-0.856</td>\n",
       "      <td>1.702</td>\n",
       "      <td>0.387</td>\n",
       "      <td>...</td>\n",
       "      <td>0.0770</td>\n",
       "      <td>4.15</td>\n",
       "      <td>0.0815</td>\n",
       "      <td>1.12</td>\n",
       "      <td>0.1704</td>\n",
       "      <td>2.66</td>\n",
       "      <td>0.562761</td>\n",
       "      <td>12.1877</td>\n",
       "      <td>2.419997</td>\n",
       "      <td>18.6624</td>\n",
       "    </tr>\n",
       "    <tr>\n",
       "      <td>2</td>\n",
       "      <td>1</td>\n",
       "      <td>899926</td>\n",
       "      <td>G</td>\n",
       "      <td>C</td>\n",
       "      <td>2.74</td>\n",
       "      <td>-5.4700</td>\n",
       "      <td>0.109</td>\n",
       "      <td>-0.856</td>\n",
       "      <td>1.702</td>\n",
       "      <td>0.387</td>\n",
       "      <td>...</td>\n",
       "      <td>0.0770</td>\n",
       "      <td>4.15</td>\n",
       "      <td>0.0815</td>\n",
       "      <td>1.12</td>\n",
       "      <td>0.1704</td>\n",
       "      <td>2.66</td>\n",
       "      <td>0.562761</td>\n",
       "      <td>12.1877</td>\n",
       "      <td>2.419997</td>\n",
       "      <td>18.6624</td>\n",
       "    </tr>\n",
       "    <tr>\n",
       "      <td>3</td>\n",
       "      <td>1</td>\n",
       "      <td>899926</td>\n",
       "      <td>G</td>\n",
       "      <td>T</td>\n",
       "      <td>2.74</td>\n",
       "      <td>-5.4700</td>\n",
       "      <td>0.109</td>\n",
       "      <td>-0.856</td>\n",
       "      <td>1.702</td>\n",
       "      <td>0.387</td>\n",
       "      <td>...</td>\n",
       "      <td>0.0770</td>\n",
       "      <td>4.15</td>\n",
       "      <td>0.0815</td>\n",
       "      <td>1.12</td>\n",
       "      <td>0.1704</td>\n",
       "      <td>2.66</td>\n",
       "      <td>0.562761</td>\n",
       "      <td>12.1877</td>\n",
       "      <td>2.419997</td>\n",
       "      <td>18.6624</td>\n",
       "    </tr>\n",
       "    <tr>\n",
       "      <td>4</td>\n",
       "      <td>1</td>\n",
       "      <td>978847</td>\n",
       "      <td>G</td>\n",
       "      <td>A</td>\n",
       "      <td>4.13</td>\n",
       "      <td>4.1300</td>\n",
       "      <td>0.655</td>\n",
       "      <td>2.136</td>\n",
       "      <td>2.035</td>\n",
       "      <td>0.087</td>\n",
       "      <td>...</td>\n",
       "      <td>0.0535</td>\n",
       "      <td>2.86</td>\n",
       "      <td>0.4269</td>\n",
       "      <td>3.62</td>\n",
       "      <td>0.1176</td>\n",
       "      <td>2.02</td>\n",
       "      <td>1.781010</td>\n",
       "      <td>25.2996</td>\n",
       "      <td>3.432827</td>\n",
       "      <td>21.3394</td>\n",
       "    </tr>\n",
       "    <tr>\n",
       "      <td>...</td>\n",
       "      <td>...</td>\n",
       "      <td>...</td>\n",
       "      <td>...</td>\n",
       "      <td>...</td>\n",
       "      <td>...</td>\n",
       "      <td>...</td>\n",
       "      <td>...</td>\n",
       "      <td>...</td>\n",
       "      <td>...</td>\n",
       "      <td>...</td>\n",
       "      <td>...</td>\n",
       "      <td>...</td>\n",
       "      <td>...</td>\n",
       "      <td>...</td>\n",
       "      <td>...</td>\n",
       "      <td>...</td>\n",
       "      <td>...</td>\n",
       "      <td>...</td>\n",
       "      <td>...</td>\n",
       "      <td>...</td>\n",
       "      <td>...</td>\n",
       "    </tr>\n",
       "    <tr>\n",
       "      <td>631218</td>\n",
       "      <td>22</td>\n",
       "      <td>51137249</td>\n",
       "      <td>T</td>\n",
       "      <td>C</td>\n",
       "      <td>4.11</td>\n",
       "      <td>0.0819</td>\n",
       "      <td>-0.282</td>\n",
       "      <td>-0.359</td>\n",
       "      <td>-2.621</td>\n",
       "      <td>0.006</td>\n",
       "      <td>...</td>\n",
       "      <td>0.0773</td>\n",
       "      <td>2.83</td>\n",
       "      <td>2.1540</td>\n",
       "      <td>12.80</td>\n",
       "      <td>0.1149</td>\n",
       "      <td>3.63</td>\n",
       "      <td>0.539487</td>\n",
       "      <td>11.9861</td>\n",
       "      <td>2.551899</td>\n",
       "      <td>19.0133</td>\n",
       "    </tr>\n",
       "    <tr>\n",
       "      <td>631219</td>\n",
       "      <td>22</td>\n",
       "      <td>51137249</td>\n",
       "      <td>T</td>\n",
       "      <td>G</td>\n",
       "      <td>4.11</td>\n",
       "      <td>0.0819</td>\n",
       "      <td>-0.282</td>\n",
       "      <td>-0.359</td>\n",
       "      <td>-2.621</td>\n",
       "      <td>0.006</td>\n",
       "      <td>...</td>\n",
       "      <td>0.0773</td>\n",
       "      <td>2.83</td>\n",
       "      <td>2.1540</td>\n",
       "      <td>12.80</td>\n",
       "      <td>0.1149</td>\n",
       "      <td>3.63</td>\n",
       "      <td>0.539487</td>\n",
       "      <td>11.9861</td>\n",
       "      <td>2.551899</td>\n",
       "      <td>19.0133</td>\n",
       "    </tr>\n",
       "    <tr>\n",
       "      <td>631220</td>\n",
       "      <td>22</td>\n",
       "      <td>51182485</td>\n",
       "      <td>A</td>\n",
       "      <td>C</td>\n",
       "      <td>4.48</td>\n",
       "      <td>0.9820</td>\n",
       "      <td>-0.404</td>\n",
       "      <td>0.143</td>\n",
       "      <td>-0.032</td>\n",
       "      <td>0.528</td>\n",
       "      <td>...</td>\n",
       "      <td>0.0282</td>\n",
       "      <td>1.40</td>\n",
       "      <td>0.0541</td>\n",
       "      <td>0.98</td>\n",
       "      <td>0.0530</td>\n",
       "      <td>2.82</td>\n",
       "      <td>0.575655</td>\n",
       "      <td>12.2964</td>\n",
       "      <td>0.804696</td>\n",
       "      <td>14.0648</td>\n",
       "    </tr>\n",
       "    <tr>\n",
       "      <td>631221</td>\n",
       "      <td>22</td>\n",
       "      <td>51182485</td>\n",
       "      <td>A</td>\n",
       "      <td>G</td>\n",
       "      <td>4.48</td>\n",
       "      <td>0.9820</td>\n",
       "      <td>-0.404</td>\n",
       "      <td>0.143</td>\n",
       "      <td>-0.032</td>\n",
       "      <td>0.528</td>\n",
       "      <td>...</td>\n",
       "      <td>0.0282</td>\n",
       "      <td>1.40</td>\n",
       "      <td>0.0541</td>\n",
       "      <td>0.98</td>\n",
       "      <td>0.0530</td>\n",
       "      <td>2.82</td>\n",
       "      <td>0.575655</td>\n",
       "      <td>12.2964</td>\n",
       "      <td>0.804696</td>\n",
       "      <td>14.0648</td>\n",
       "    </tr>\n",
       "    <tr>\n",
       "      <td>631222</td>\n",
       "      <td>22</td>\n",
       "      <td>51182485</td>\n",
       "      <td>A</td>\n",
       "      <td>T</td>\n",
       "      <td>4.48</td>\n",
       "      <td>0.9820</td>\n",
       "      <td>-0.404</td>\n",
       "      <td>0.143</td>\n",
       "      <td>-0.032</td>\n",
       "      <td>0.528</td>\n",
       "      <td>...</td>\n",
       "      <td>0.0282</td>\n",
       "      <td>1.40</td>\n",
       "      <td>0.0541</td>\n",
       "      <td>0.98</td>\n",
       "      <td>0.0530</td>\n",
       "      <td>2.82</td>\n",
       "      <td>0.575655</td>\n",
       "      <td>12.2964</td>\n",
       "      <td>0.804696</td>\n",
       "      <td>14.0648</td>\n",
       "    </tr>\n",
       "  </tbody>\n",
       "</table>\n",
       "<p>631223 rows × 33 columns</p>\n",
       "</div>"
      ],
      "text/plain": [
       "        chr  position ref alt  GERP_NR  GERP_RS PhyloPri PhyloPla  PhyloVer  \\\n",
       "0         1    874714   C   A     3.83   1.7100    0.591    0.938     0.326   \n",
       "1         1    899926   G   A     2.74  -5.4700    0.109   -0.856     1.702   \n",
       "2         1    899926   G   C     2.74  -5.4700    0.109   -0.856     1.702   \n",
       "3         1    899926   G   T     2.74  -5.4700    0.109   -0.856     1.702   \n",
       "4         1    978847   G   A     4.13   4.1300    0.655    2.136     2.035   \n",
       "...     ...       ...  ..  ..      ...      ...      ...      ...       ...   \n",
       "631218   22  51137249   T   C     4.11   0.0819   -0.282   -0.359    -2.621   \n",
       "631219   22  51137249   T   G     4.11   0.0819   -0.282   -0.359    -2.621   \n",
       "631220   22  51182485   A   C     4.48   0.9820   -0.404    0.143    -0.032   \n",
       "631221   22  51182485   A   G     4.48   0.9820   -0.404    0.143    -0.032   \n",
       "631222   22  51182485   A   T     4.48   0.9820   -0.404    0.143    -0.032   \n",
       "\n",
       "       PhastPri  ... PolIISig  PolIIPval  ctcfSig  ctcfPval  cmycSig  \\\n",
       "0         0.008  ...   0.1700       8.48   3.8276     16.00   0.1533   \n",
       "1         0.387  ...   0.0770       4.15   0.0815      1.12   0.1704   \n",
       "2         0.387  ...   0.0770       4.15   0.0815      1.12   0.1704   \n",
       "3         0.387  ...   0.0770       4.15   0.0815      1.12   0.1704   \n",
       "4         0.087  ...   0.0535       2.86   0.4269      3.62   0.1176   \n",
       "...         ...  ...      ...        ...      ...       ...      ...   \n",
       "631218    0.006  ...   0.0773       2.83   2.1540     12.80   0.1149   \n",
       "631219    0.006  ...   0.0773       2.83   2.1540     12.80   0.1149   \n",
       "631220    0.528  ...   0.0282       1.40   0.0541      0.98   0.0530   \n",
       "631221    0.528  ...   0.0282       1.40   0.0541      0.98   0.0530   \n",
       "631222    0.528  ...   0.0282       1.40   0.0541      0.98   0.0530   \n",
       "\n",
       "        cmycPval  Eigen-raw  Eigen-phred  Eigen-PC-raw  Eigen-PC-phred  \n",
       "0           6.42   1.895022      27.5634      5.274241         27.0578  \n",
       "1           2.66   0.562761      12.1877      2.419997         18.6624  \n",
       "2           2.66   0.562761      12.1877      2.419997         18.6624  \n",
       "3           2.66   0.562761      12.1877      2.419997         18.6624  \n",
       "4           2.02   1.781010      25.2996      3.432827         21.3394  \n",
       "...          ...        ...          ...           ...             ...  \n",
       "631218      3.63   0.539487      11.9861      2.551899         19.0133  \n",
       "631219      3.63   0.539487      11.9861      2.551899         19.0133  \n",
       "631220      2.82   0.575655      12.2964      0.804696         14.0648  \n",
       "631221      2.82   0.575655      12.2964      0.804696         14.0648  \n",
       "631222      2.82   0.575655      12.2964      0.804696         14.0648  \n",
       "\n",
       "[631223 rows x 33 columns]"
      ]
     },
     "execution_count": 37,
     "metadata": {},
     "output_type": "execute_result"
    }
   ],
   "source": [
    "eigen = pd.read_csv('../data/nctools_predictions/eigen_filtered.txt', sep='\\t')\n",
    "eigen"
   ]
  },
  {
   "cell_type": "code",
   "execution_count": 38,
   "metadata": {},
   "outputs": [],
   "source": [
    "eigen = eigen[['chr', 'position', 'ref', 'alt', 'Eigen-raw', 'Eigen-phred', 'Eigen-PC-raw', 'Eigen-PC-phred']]"
   ]
  },
  {
   "cell_type": "code",
   "execution_count": 40,
   "metadata": {},
   "outputs": [],
   "source": [
    "eigen.columns = ['#Chrom', 'Pos', 'Ref', 'Alt', 'Eigen-raw', 'Eigen-phred', 'Eigen PC-raw', 'Eigen PC-phred']"
   ]
  },
  {
   "cell_type": "code",
   "execution_count": 41,
   "metadata": {},
   "outputs": [
    {
     "name": "stderr",
     "output_type": "stream",
     "text": [
      "//anaconda3/envs/py3_vp/lib/python3.7/site-packages/ipykernel_launcher.py:1: SettingWithCopyWarning: \n",
      "A value is trying to be set on a copy of a slice from a DataFrame.\n",
      "Try using .loc[row_indexer,col_indexer] = value instead\n",
      "\n",
      "See the caveats in the documentation: http://pandas.pydata.org/pandas-docs/stable/user_guide/indexing.html#returning-a-view-versus-a-copy\n",
      "  \"\"\"Entry point for launching an IPython kernel.\n"
     ]
    }
   ],
   "source": [
    "eigen['#Chrom'] = eigen['#Chrom'].apply(lambda x: str(x))"
   ]
  },
  {
   "cell_type": "code",
   "execution_count": 42,
   "metadata": {},
   "outputs": [
    {
     "data": {
      "text/html": [
       "<div>\n",
       "<style scoped>\n",
       "    .dataframe tbody tr th:only-of-type {\n",
       "        vertical-align: middle;\n",
       "    }\n",
       "\n",
       "    .dataframe tbody tr th {\n",
       "        vertical-align: top;\n",
       "    }\n",
       "\n",
       "    .dataframe thead th {\n",
       "        text-align: right;\n",
       "    }\n",
       "</style>\n",
       "<table border=\"1\" class=\"dataframe\">\n",
       "  <thead>\n",
       "    <tr style=\"text-align: right;\">\n",
       "      <th></th>\n",
       "      <th>#Chrom</th>\n",
       "      <th>Pos</th>\n",
       "      <th>Ref</th>\n",
       "      <th>Alt</th>\n",
       "      <th>Eigen-raw</th>\n",
       "      <th>Eigen-phred</th>\n",
       "      <th>Eigen PC-raw</th>\n",
       "      <th>Eigen PC-phred</th>\n",
       "    </tr>\n",
       "  </thead>\n",
       "  <tbody>\n",
       "    <tr>\n",
       "      <td>0</td>\n",
       "      <td>1</td>\n",
       "      <td>874714</td>\n",
       "      <td>C</td>\n",
       "      <td>A</td>\n",
       "      <td>1.895022</td>\n",
       "      <td>27.5634</td>\n",
       "      <td>5.274241</td>\n",
       "      <td>27.0578</td>\n",
       "    </tr>\n",
       "    <tr>\n",
       "      <td>1</td>\n",
       "      <td>1</td>\n",
       "      <td>899926</td>\n",
       "      <td>G</td>\n",
       "      <td>A</td>\n",
       "      <td>0.562761</td>\n",
       "      <td>12.1877</td>\n",
       "      <td>2.419997</td>\n",
       "      <td>18.6624</td>\n",
       "    </tr>\n",
       "    <tr>\n",
       "      <td>2</td>\n",
       "      <td>1</td>\n",
       "      <td>899926</td>\n",
       "      <td>G</td>\n",
       "      <td>C</td>\n",
       "      <td>0.562761</td>\n",
       "      <td>12.1877</td>\n",
       "      <td>2.419997</td>\n",
       "      <td>18.6624</td>\n",
       "    </tr>\n",
       "    <tr>\n",
       "      <td>3</td>\n",
       "      <td>1</td>\n",
       "      <td>899926</td>\n",
       "      <td>G</td>\n",
       "      <td>T</td>\n",
       "      <td>0.562761</td>\n",
       "      <td>12.1877</td>\n",
       "      <td>2.419997</td>\n",
       "      <td>18.6624</td>\n",
       "    </tr>\n",
       "    <tr>\n",
       "      <td>4</td>\n",
       "      <td>1</td>\n",
       "      <td>978847</td>\n",
       "      <td>G</td>\n",
       "      <td>A</td>\n",
       "      <td>1.781010</td>\n",
       "      <td>25.2996</td>\n",
       "      <td>3.432827</td>\n",
       "      <td>21.3394</td>\n",
       "    </tr>\n",
       "  </tbody>\n",
       "</table>\n",
       "</div>"
      ],
      "text/plain": [
       "  #Chrom     Pos Ref Alt  Eigen-raw  Eigen-phred  Eigen PC-raw  Eigen PC-phred\n",
       "0      1  874714   C   A   1.895022      27.5634      5.274241         27.0578\n",
       "1      1  899926   G   A   0.562761      12.1877      2.419997         18.6624\n",
       "2      1  899926   G   C   0.562761      12.1877      2.419997         18.6624\n",
       "3      1  899926   G   T   0.562761      12.1877      2.419997         18.6624\n",
       "4      1  978847   G   A   1.781010      25.2996      3.432827         21.3394"
      ]
     },
     "execution_count": 42,
     "metadata": {},
     "output_type": "execute_result"
    }
   ],
   "source": [
    "eigen.head()"
   ]
  },
  {
   "cell_type": "code",
   "execution_count": 43,
   "metadata": {},
   "outputs": [
    {
     "name": "stdout",
     "output_type": "stream",
     "text": [
      "(631223, 8)\n",
      "(211084, 8)\n"
     ]
    }
   ],
   "source": [
    "print(eigen.shape)\n",
    "eigen = eigen.drop_duplicates()\n",
    "print(eigen.shape)"
   ]
  },
  {
   "cell_type": "code",
   "execution_count": 44,
   "metadata": {},
   "outputs": [],
   "source": [
    "merged = data.merge(eigen, on=['#Chrom', 'Pos', 'Ref', 'Alt'], how='left')"
   ]
  },
  {
   "cell_type": "code",
   "execution_count": 45,
   "metadata": {},
   "outputs": [
    {
     "data": {
      "text/plain": [
       "(82188, 174)"
      ]
     },
     "execution_count": 45,
     "metadata": {},
     "output_type": "execute_result"
    }
   ],
   "source": [
    "merged.shape"
   ]
  },
  {
   "cell_type": "code",
   "execution_count": 46,
   "metadata": {},
   "outputs": [],
   "source": [
    "data = merged"
   ]
  },
  {
   "cell_type": "code",
   "execution_count": null,
   "metadata": {},
   "outputs": [],
   "source": []
  },
  {
   "cell_type": "markdown",
   "metadata": {},
   "source": [
    "<h3>Merge Eigen scores only on chrom and pos</h3>"
   ]
  },
  {
   "cell_type": "code",
   "execution_count": 47,
   "metadata": {},
   "outputs": [
    {
     "name": "stdout",
     "output_type": "stream",
     "text": [
      "(211084, 8)\n"
     ]
    },
    {
     "data": {
      "text/html": [
       "<div>\n",
       "<style scoped>\n",
       "    .dataframe tbody tr th:only-of-type {\n",
       "        vertical-align: middle;\n",
       "    }\n",
       "\n",
       "    .dataframe tbody tr th {\n",
       "        vertical-align: top;\n",
       "    }\n",
       "\n",
       "    .dataframe thead th {\n",
       "        text-align: right;\n",
       "    }\n",
       "</style>\n",
       "<table border=\"1\" class=\"dataframe\">\n",
       "  <thead>\n",
       "    <tr style=\"text-align: right;\">\n",
       "      <th></th>\n",
       "      <th>#Chrom</th>\n",
       "      <th>Pos</th>\n",
       "      <th>Eigen-raw_merged-chr-pos</th>\n",
       "      <th>Eigen PC-raw_merged-chr-pos</th>\n",
       "    </tr>\n",
       "  </thead>\n",
       "  <tbody>\n",
       "    <tr>\n",
       "      <td>0</td>\n",
       "      <td>1</td>\n",
       "      <td>874714</td>\n",
       "      <td>1.895022</td>\n",
       "      <td>5.274241</td>\n",
       "    </tr>\n",
       "    <tr>\n",
       "      <td>1</td>\n",
       "      <td>1</td>\n",
       "      <td>899926</td>\n",
       "      <td>0.562761</td>\n",
       "      <td>2.419997</td>\n",
       "    </tr>\n",
       "    <tr>\n",
       "      <td>2</td>\n",
       "      <td>1</td>\n",
       "      <td>899926</td>\n",
       "      <td>0.562761</td>\n",
       "      <td>2.419997</td>\n",
       "    </tr>\n",
       "    <tr>\n",
       "      <td>3</td>\n",
       "      <td>1</td>\n",
       "      <td>899926</td>\n",
       "      <td>0.562761</td>\n",
       "      <td>2.419997</td>\n",
       "    </tr>\n",
       "    <tr>\n",
       "      <td>4</td>\n",
       "      <td>1</td>\n",
       "      <td>978847</td>\n",
       "      <td>1.781010</td>\n",
       "      <td>3.432827</td>\n",
       "    </tr>\n",
       "  </tbody>\n",
       "</table>\n",
       "</div>"
      ],
      "text/plain": [
       "  #Chrom     Pos  Eigen-raw_merged-chr-pos  Eigen PC-raw_merged-chr-pos\n",
       "0      1  874714                  1.895022                     5.274241\n",
       "1      1  899926                  0.562761                     2.419997\n",
       "2      1  899926                  0.562761                     2.419997\n",
       "3      1  899926                  0.562761                     2.419997\n",
       "4      1  978847                  1.781010                     3.432827"
      ]
     },
     "execution_count": 47,
     "metadata": {},
     "output_type": "execute_result"
    }
   ],
   "source": [
    "print(eigen.shape)\n",
    "eigen = eigen[['#Chrom', 'Pos', 'Eigen-raw', 'Eigen PC-raw']]\n",
    "eigen.columns = ['#Chrom', 'Pos', 'Eigen-raw_merged-chr-pos', 'Eigen PC-raw_merged-chr-pos']\n",
    "eigen['#Chrom'] = eigen['#Chrom'].apply(lambda x: str(x)) #convert all chromosmes to string (some are int)\n",
    "eigen.head()"
   ]
  },
  {
   "cell_type": "code",
   "execution_count": 48,
   "metadata": {},
   "outputs": [
    {
     "data": {
      "text/plain": [
       "(70822, 4)"
      ]
     },
     "execution_count": 48,
     "metadata": {},
     "output_type": "execute_result"
    }
   ],
   "source": [
    "eigen = eigen.drop_duplicates(subset=['#Chrom', 'Pos'])\n",
    "eigen.shape"
   ]
  },
  {
   "cell_type": "code",
   "execution_count": 50,
   "metadata": {},
   "outputs": [],
   "source": [
    "eigen_data = data.merge(eigen, on=['#Chrom', 'Pos'], how='left')"
   ]
  },
  {
   "cell_type": "code",
   "execution_count": 51,
   "metadata": {},
   "outputs": [
    {
     "data": {
      "text/plain": [
       "(82188, 176)"
      ]
     },
     "execution_count": 51,
     "metadata": {},
     "output_type": "execute_result"
    }
   ],
   "source": [
    "eigen_data.shape"
   ]
  },
  {
   "cell_type": "code",
   "execution_count": 52,
   "metadata": {},
   "outputs": [],
   "source": [
    "data = eigen_data"
   ]
  },
  {
   "cell_type": "code",
   "execution_count": 53,
   "metadata": {},
   "outputs": [],
   "source": [
    "data.loc[np.where((data.Ref.apply(lambda x: len(x) != 1)) | (data.Alt.apply(lambda x: len(x) != 1)))[0], 'Eigen-raw_merged-chr-pos'] = np.nan\n",
    "data.loc[np.where((data.Ref.apply(lambda x: len(x) != 1)) | (data.Alt.apply(lambda x: len(x) != 1)))[0], 'Eigen-PC-raw_merged-chr-pos'] = np.nan"
   ]
  },
  {
   "cell_type": "code",
   "execution_count": null,
   "metadata": {},
   "outputs": [],
   "source": []
  },
  {
   "cell_type": "code",
   "execution_count": null,
   "metadata": {},
   "outputs": [],
   "source": []
  },
  {
   "cell_type": "code",
   "execution_count": null,
   "metadata": {},
   "outputs": [],
   "source": []
  },
  {
   "cell_type": "code",
   "execution_count": null,
   "metadata": {},
   "outputs": [],
   "source": []
  },
  {
   "cell_type": "code",
   "execution_count": null,
   "metadata": {},
   "outputs": [],
   "source": []
  },
  {
   "cell_type": "code",
   "execution_count": null,
   "metadata": {},
   "outputs": [],
   "source": []
  },
  {
   "cell_type": "markdown",
   "metadata": {},
   "source": [
    "<h3>Add LiNSIGHT scores</h3>"
   ]
  },
  {
   "cell_type": "code",
   "execution_count": null,
   "metadata": {},
   "outputs": [],
   "source": []
  },
  {
   "cell_type": "code",
   "execution_count": 54,
   "metadata": {},
   "outputs": [
    {
     "name": "stdout",
     "output_type": "stream",
     "text": [
      "(71421, 3)\n",
      "(68618, 3)\n"
     ]
    },
    {
     "data": {
      "text/html": [
       "<div>\n",
       "<style scoped>\n",
       "    .dataframe tbody tr th:only-of-type {\n",
       "        vertical-align: middle;\n",
       "    }\n",
       "\n",
       "    .dataframe tbody tr th {\n",
       "        vertical-align: top;\n",
       "    }\n",
       "\n",
       "    .dataframe thead th {\n",
       "        text-align: right;\n",
       "    }\n",
       "</style>\n",
       "<table border=\"1\" class=\"dataframe\">\n",
       "  <thead>\n",
       "    <tr style=\"text-align: right;\">\n",
       "      <th></th>\n",
       "      <th>#Chrom</th>\n",
       "      <th>Pos</th>\n",
       "      <th>LINSIGHT_score</th>\n",
       "    </tr>\n",
       "  </thead>\n",
       "  <tbody>\n",
       "    <tr>\n",
       "      <td>0</td>\n",
       "      <td>1</td>\n",
       "      <td>21835920</td>\n",
       "      <td>0.113951</td>\n",
       "    </tr>\n",
       "    <tr>\n",
       "      <td>1</td>\n",
       "      <td>1</td>\n",
       "      <td>55505180</td>\n",
       "      <td>0.214607</td>\n",
       "    </tr>\n",
       "    <tr>\n",
       "      <td>2</td>\n",
       "      <td>1</td>\n",
       "      <td>113498814</td>\n",
       "      <td>0.055969</td>\n",
       "    </tr>\n",
       "    <tr>\n",
       "      <td>3</td>\n",
       "      <td>1</td>\n",
       "      <td>209975332</td>\n",
       "      <td>0.160774</td>\n",
       "    </tr>\n",
       "    <tr>\n",
       "      <td>4</td>\n",
       "      <td>1</td>\n",
       "      <td>209975361</td>\n",
       "      <td>0.081169</td>\n",
       "    </tr>\n",
       "  </tbody>\n",
       "</table>\n",
       "</div>"
      ],
      "text/plain": [
       "  #Chrom        Pos  LINSIGHT_score\n",
       "0      1   21835920        0.113951\n",
       "1      1   55505180        0.214607\n",
       "2      1  113498814        0.055969\n",
       "3      1  209975332        0.160774\n",
       "4      1  209975361        0.081169"
      ]
     },
     "execution_count": 54,
     "metadata": {},
     "output_type": "execute_result"
    }
   ],
   "source": [
    "linsight = pd.read_csv('../data/nctools_predictions/linsight_predictions.txt', sep='\\t')\n",
    "linsight = linsight[['#Chrom', 'Pos', 'LINSIGHT_score']]\n",
    "print(linsight.shape)\n",
    "linsight = linsight.drop_duplicates()\n",
    "print(linsight.shape)\n",
    "linsight.head()"
   ]
  },
  {
   "cell_type": "code",
   "execution_count": 55,
   "metadata": {},
   "outputs": [],
   "source": [
    "#The LiNSIGHT scores are position based, so only merge on chromosome and position. "
   ]
  },
  {
   "cell_type": "code",
   "execution_count": 56,
   "metadata": {},
   "outputs": [],
   "source": [
    "linsight_data = data.merge(linsight, on=['#Chrom', 'Pos'], how='left')"
   ]
  },
  {
   "cell_type": "code",
   "execution_count": 57,
   "metadata": {},
   "outputs": [
    {
     "data": {
      "text/plain": [
       "(82188, 178)"
      ]
     },
     "execution_count": 57,
     "metadata": {},
     "output_type": "execute_result"
    }
   ],
   "source": [
    "linsight_data.shape"
   ]
  },
  {
   "cell_type": "code",
   "execution_count": 58,
   "metadata": {},
   "outputs": [],
   "source": [
    "data = linsight_data"
   ]
  },
  {
   "cell_type": "code",
   "execution_count": 59,
   "metadata": {},
   "outputs": [],
   "source": [
    "data.loc[np.where((data.Ref.apply(lambda x: len(x) != 1)) | (data.Alt.apply(lambda x: len(x) != 1)))[0], 'LINSIGHT_score'] = np.nan\n"
   ]
  },
  {
   "cell_type": "code",
   "execution_count": null,
   "metadata": {},
   "outputs": [],
   "source": []
  },
  {
   "cell_type": "code",
   "execution_count": null,
   "metadata": {},
   "outputs": [],
   "source": []
  },
  {
   "cell_type": "code",
   "execution_count": null,
   "metadata": {},
   "outputs": [],
   "source": []
  },
  {
   "cell_type": "code",
   "execution_count": null,
   "metadata": {},
   "outputs": [],
   "source": []
  },
  {
   "cell_type": "code",
   "execution_count": null,
   "metadata": {},
   "outputs": [],
   "source": []
  },
  {
   "cell_type": "markdown",
   "metadata": {},
   "source": [
    "<h1>Save train set with added columns of NCtools</h1>"
   ]
  },
  {
   "cell_type": "code",
   "execution_count": 60,
   "metadata": {},
   "outputs": [],
   "source": [
    "data.to_csv('../data/data_nc.nctools-predictions.txt', sep='\\t', index=False)"
   ]
  },
  {
   "cell_type": "code",
   "execution_count": null,
   "metadata": {},
   "outputs": [],
   "source": []
  },
  {
   "cell_type": "code",
   "execution_count": null,
   "metadata": {},
   "outputs": [],
   "source": []
  },
  {
   "cell_type": "code",
   "execution_count": null,
   "metadata": {},
   "outputs": [],
   "source": []
  }
 ],
 "metadata": {
  "kernelspec": {
   "display_name": "Python (py3_vp)",
   "language": "python",
   "name": "py3_vp"
  },
  "language_info": {
   "codemirror_mode": {
    "name": "ipython",
    "version": 3
   },
   "file_extension": ".py",
   "mimetype": "text/x-python",
   "name": "python",
   "nbconvert_exporter": "python",
   "pygments_lexer": "ipython3",
   "version": "3.7.4"
  }
 },
 "nbformat": 4,
 "nbformat_minor": 2
}
