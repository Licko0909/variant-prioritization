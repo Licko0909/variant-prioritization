{
 "cells": [
  {
   "cell_type": "code",
   "execution_count": 2,
   "metadata": {},
   "outputs": [],
   "source": [
    "import json\n",
    "import numpy as np\n",
    "from matplotlib import pyplot as plt\n",
    "import seaborn as sns \n",
    "from matplotlib import pyplot as plt"
   ]
  },
  {
   "cell_type": "markdown",
   "metadata": {},
   "source": [
    "Content:\n",
    "<ul>\n",
    "    <li>Results different feature sets and oversampling techniques</li>\n",
    "    <li>Feature importance</li>\n",
    "</ul>"
   ]
  },
  {
   "cell_type": "markdown",
   "metadata": {},
   "source": [
    "<h3>Results different feature sets and oversampling techniques</h3>"
   ]
  },
  {
   "cell_type": "code",
   "execution_count": 3,
   "metadata": {},
   "outputs": [],
   "source": [
    "def return_results_dict(file):\n",
    "    with open('../data/data_model/' + file) as json_file:\n",
    "        return json.load(json_file)"
   ]
  },
  {
   "cell_type": "code",
   "execution_count": 4,
   "metadata": {},
   "outputs": [],
   "source": [
    "oversampling_results_all_features = return_results_dict('oversampling_all-features_20191212-131329.txt')\n",
    "oversampling_results_cadd_features = return_results_dict('oversampling_CADD-numerical-features_20191212-125617.txt')\n"
   ]
  },
  {
   "cell_type": "code",
   "execution_count": 5,
   "metadata": {},
   "outputs": [],
   "source": [
    "def sort_results(d, metric='AUC_balanced'):\n",
    "    sorted_results = sorted([[key, np.mean(d[key][metric])] for key in d], key=lambda x: x[1])[::-1]\n",
    "    return sorted_results"
   ]
  },
  {
   "cell_type": "code",
   "execution_count": 82,
   "metadata": {},
   "outputs": [
    {
     "data": {
      "text/plain": [
       "[['BorderlineSMOTE, k_neighbors=40,  m_neighbors=25', 0.9097094368260281],\n",
       " ['SVMSMOTE, k_neighbors=40,  m_neighbors=25', 0.9081153350400155],\n",
       " ['SVMSMOTE, k_neighbors=40,  m_neighbors=50', 0.9053753722471205],\n",
       " ['no_oversampling', 0.9050765181211162],\n",
       " ['SVMSMOTE, k_neighbors=5,  m_neighbors=10', 0.9046590436898881],\n",
       " ['BorderlineSMOTE, k_neighbors=5,  m_neighbors=50', 0.9045389383217133],\n",
       " ['BorderlineSMOTE, k_neighbors=15,  m_neighbors=25', 0.9043069481087542],\n",
       " ['ADASYN,  n_neighbors=15', 0.9035971977020866],\n",
       " ['ADASYN,  n_neighbors=40', 0.9032959925872124],\n",
       " ['SVMSMOTE, k_neighbors=5,  m_neighbors=25', 0.9032418116024606],\n",
       " ['BorderlineSMOTE, k_neighbors=40,  m_neighbors=50', 0.9028392152217307],\n",
       " ['BorderlineSMOTE, k_neighbors=5,  m_neighbors=10', 0.9026802745192987],\n",
       " [\"SMOTE, k_neighbors=40,  m_neighbors='deprecated'\", 0.9025319038859176],\n",
       " ['BorderlineSMOTE, k_neighbors=5,  m_neighbors=25', 0.9022691429954272],\n",
       " ['ADASYN,  n_neighbors=5', 0.902175657633212],\n",
       " ['BorderlineSMOTE, k_neighbors=15,  m_neighbors=50', 0.9019467991856601],\n",
       " ['SVMSMOTE, k_neighbors=15,  m_neighbors=50', 0.90165859306204],\n",
       " [\"SMOTE, k_neighbors=5,  m_neighbors='deprecated'\", 0.9015788874676158],\n",
       " ['SVMSMOTE, k_neighbors=5,  m_neighbors=50', 0.9011902267213424],\n",
       " [\"SMOTE, k_neighbors=15,  m_neighbors='deprecated'\", 0.8986405237281596],\n",
       " ['SVMSMOTE, k_neighbors=15,  m_neighbors=25', 0.8974797875571987]]"
      ]
     },
     "execution_count": 82,
     "metadata": {},
     "output_type": "execute_result"
    }
   ],
   "source": [
    "sort_results(oversampling_results_all_features)"
   ]
  },
  {
   "cell_type": "code",
   "execution_count": 83,
   "metadata": {},
   "outputs": [
    {
     "data": {
      "text/plain": [
       "[['ADASYN,  n_neighbors=5', 0.9544984441186417],\n",
       " ['SVMSMOTE, k_neighbors=15,  m_neighbors=25', 0.9544375403471405],\n",
       " ['BorderlineSMOTE, k_neighbors=5,  m_neighbors=10', 0.9544103447239953],\n",
       " ['SVMSMOTE, k_neighbors=5,  m_neighbors=50', 0.9543597213496107],\n",
       " [\"SMOTE, k_neighbors=40,  m_neighbors='deprecated'\", 0.954299061285154],\n",
       " ['SVMSMOTE, k_neighbors=15,  m_neighbors=50', 0.9542105137297339],\n",
       " ['SVMSMOTE, k_neighbors=40,  m_neighbors=25', 0.9541336102283229],\n",
       " ['SVMSMOTE, k_neighbors=5,  m_neighbors=25', 0.953975837286303],\n",
       " ['BorderlineSMOTE, k_neighbors=15,  m_neighbors=50', 0.953764822263692],\n",
       " [\"SMOTE, k_neighbors=15,  m_neighbors='deprecated'\", 0.9536388525492508],\n",
       " [\"SMOTE, k_neighbors=5,  m_neighbors='deprecated'\", 0.9536039313441206],\n",
       " ['BorderlineSMOTE, k_neighbors=15,  m_neighbors=25', 0.953487130283176],\n",
       " ['BorderlineSMOTE, k_neighbors=40,  m_neighbors=25', 0.9533672696534907],\n",
       " ['SVMSMOTE, k_neighbors=5,  m_neighbors=10', 0.9533248638341959],\n",
       " ['ADASYN,  n_neighbors=15', 0.9533062490491073],\n",
       " ['ADASYN,  n_neighbors=40', 0.9528794461990376],\n",
       " ['BorderlineSMOTE, k_neighbors=5,  m_neighbors=25', 0.9527497925939551],\n",
       " ['BorderlineSMOTE, k_neighbors=5,  m_neighbors=50', 0.9525520253382632],\n",
       " ['BorderlineSMOTE, k_neighbors=40,  m_neighbors=50', 0.952188672853338],\n",
       " ['no_oversampling', 0.9519684809595571],\n",
       " ['SVMSMOTE, k_neighbors=40,  m_neighbors=50', 0.951793571910063]]"
      ]
     },
     "execution_count": 83,
     "metadata": {},
     "output_type": "execute_result"
    }
   ],
   "source": [
    "sort_results(oversampling_results_cadd_features)"
   ]
  },
  {
   "cell_type": "code",
   "execution_count": null,
   "metadata": {},
   "outputs": [],
   "source": []
  },
  {
   "cell_type": "code",
   "execution_count": 91,
   "metadata": {},
   "outputs": [],
   "source": [
    "featuresets = return_results_dict('featuresets_20191212-143644.txt') "
   ]
  },
  {
   "cell_type": "code",
   "execution_count": 94,
   "metadata": {},
   "outputs": [
    {
     "data": {
      "text/plain": [
       "{'deepsea-features': {'AP': [0.24793516765664952,\n",
       "   0.24160218948640957,\n",
       "   0.26129935502535434,\n",
       "   0.23823064537497554,\n",
       "   0.3051230406557499],\n",
       "  'AUC_all': [0.7283062054070208,\n",
       "   0.7111967423114175,\n",
       "   0.7311757457100081,\n",
       "   0.7256676055492557,\n",
       "   0.7715037922643362],\n",
       "  'AUC_balanced': [0.7181907419552572,\n",
       "   0.7110030438610998,\n",
       "   0.7366382271468144,\n",
       "   0.7233285493537043,\n",
       "   0.7529555846582249]},\n",
       " 'CADD-numerical': {'AP': [0.8066675843690043,\n",
       "   0.8213312029851106,\n",
       "   0.7830336257330354,\n",
       "   0.8329923570148473,\n",
       "   0.8117361451137618],\n",
       "  'AUC_all': [0.9497577991173719,\n",
       "   0.9526993617339787,\n",
       "   0.9416567069477016,\n",
       "   0.9584540811486522,\n",
       "   0.9563353842945042],\n",
       "  'AUC_balanced': [0.9507111316358883,\n",
       "   0.9556690522202637,\n",
       "   0.9444936555311694,\n",
       "   0.958901432085582,\n",
       "   0.9526338561384532]},\n",
       " 'CADD-all': {'AP': [0.8028398926684833,\n",
       "   0.8268442721400987,\n",
       "   0.78175352803619,\n",
       "   0.8424465772147621,\n",
       "   0.8113298673532859],\n",
       "  'AUC_all': [0.9466960173857368,\n",
       "   0.9544024413399893,\n",
       "   0.945136455110764,\n",
       "   0.9591242506495135,\n",
       "   0.9564419517155074],\n",
       "  'AUC_balanced': [0.9477742435956643,\n",
       "   0.9583342181825905,\n",
       "   0.9482004728025684,\n",
       "   0.9583818004996091,\n",
       "   0.9523904813412656]},\n",
       " 'nc-predictors': {'AP': [0.3508139608074126,\n",
       "   0.3859713284507995,\n",
       "   0.3345305320121626,\n",
       "   0.3723450007468355,\n",
       "   0.36800112635228455],\n",
       "  'AUC_all': [0.8391375541314448,\n",
       "   0.819342115720871,\n",
       "   0.7950794080818827,\n",
       "   0.8446835323100246,\n",
       "   0.837982557449057],\n",
       "  'AUC_balanced': [0.8430795847750865,\n",
       "   0.8263406635802468,\n",
       "   0.809559221200649,\n",
       "   0.8517777777777777,\n",
       "   0.8439886693678511]},\n",
       " 'CADD_nc-predictors': {'AP': [0.5622542585506378,\n",
       "   0.5394675643015108,\n",
       "   0.4992820976394475,\n",
       "   0.5915739011915077,\n",
       "   0.5594796129418154],\n",
       "  'AUC_all': [0.9034021115345862,\n",
       "   0.8811829636571904,\n",
       "   0.871134233453074,\n",
       "   0.9233398661652277,\n",
       "   0.9090513134158491],\n",
       "  'AUC_balanced': [0.9067573696145125,\n",
       "   0.9023275587203742,\n",
       "   0.879372427983539,\n",
       "   0.9239002267573696,\n",
       "   0.9111911661054115]},\n",
       " 'CADD-numerical_cis-eqtls-10000bp': {'AP': [0.8284273497340354,\n",
       "   0.851062995115148,\n",
       "   0.8165158058689715,\n",
       "   0.8534743049427181,\n",
       "   0.8395351333303538],\n",
       "  'AUC_all': [0.9477220017765025,\n",
       "   0.9589132104454685,\n",
       "   0.9490001380433075,\n",
       "   0.9610892794543432,\n",
       "   0.9620745178091077],\n",
       "  'AUC_balanced': [0.9438618521074508,\n",
       "   0.959066873367453,\n",
       "   0.9496561179411084,\n",
       "   0.9572376575580175,\n",
       "   0.9621254732287723]},\n",
       " 'CADD_cis-eqtls-100bp': {'AP': [0.83017292565675,\n",
       "   0.8539516134236205,\n",
       "   0.8165115847103075,\n",
       "   0.8609571966590582,\n",
       "   0.8382444746969732],\n",
       "  'AUC_all': [0.9467011701254631,\n",
       "   0.9601278801843317,\n",
       "   0.9464453451638034,\n",
       "   0.9607055424036655,\n",
       "   0.9573424652307458],\n",
       "  'AUC_balanced': [0.9433222119021798,\n",
       "   0.9607657839410478,\n",
       "   0.9457179772174609,\n",
       "   0.9583102915657596,\n",
       "   0.9578150351541374]},\n",
       " 'CADD_nc-predictors_cis-eqtls-100bp': {'AP': [0.5897615018247403,\n",
       "   0.5805828985954044,\n",
       "   0.538585747258682,\n",
       "   0.6277731354912658,\n",
       "   0.5701867362198135],\n",
       "  'AUC_all': [0.8992817122483134,\n",
       "   0.8950987342949128,\n",
       "   0.8983385912180905,\n",
       "   0.9286645502645502,\n",
       "   0.9274993418747761],\n",
       "  'AUC_balanced': [0.8827210884353741,\n",
       "   0.8958444042937613,\n",
       "   0.917781207133059,\n",
       "   0.9169160997732426,\n",
       "   0.9461195081838828]},\n",
       " 'CADD_nc-predictors_cis-eqtls-100bp-10000bp': {'AP': [0.5951943672168726,\n",
       "   0.5795145018469345,\n",
       "   0.5501751388042124,\n",
       "   0.6454672528460208,\n",
       "   0.5661882494115392],\n",
       "  'AUC_all': [0.8961175039760502,\n",
       "   0.9119376096886296,\n",
       "   0.9036979076102707,\n",
       "   0.9306264550264549,\n",
       "   0.9111026220104785],\n",
       "  'AUC_balanced': [0.8760090702947845,\n",
       "   0.9178446168562016,\n",
       "   0.9196673525377229,\n",
       "   0.9141043083900227,\n",
       "   0.9257576944161642]},\n",
       " 'CADD_nc-predictors_cis-eqtls-100bp-10000bp_trans_eqtls_500bp': {'AP': [0.6006965139209383,\n",
       "   0.5880882825208879,\n",
       "   0.5501751388042124,\n",
       "   0.6369443688538483,\n",
       "   0.5749789334661655],\n",
       "  'AUC_all': [0.8972172846436108,\n",
       "   0.9033298852845802,\n",
       "   0.9036979076102707,\n",
       "   0.9345989417989418,\n",
       "   0.9172622782414893],\n",
       "  'AUC_balanced': [0.8812698412698412,\n",
       "   0.912743118290998,\n",
       "   0.9196673525377229,\n",
       "   0.9239909297052155,\n",
       "   0.9341373639282637]},\n",
       " 'CADD_nc-predictors_cis-eqtls-100bp-10000bp_trans_eqtls_500bp-1000bp': {'AP': [0.6012617845410916,\n",
       "   0.5896749531882511,\n",
       "   0.5501751388042124,\n",
       "   0.6336179320166521,\n",
       "   0.5833414055790671],\n",
       "  'AUC_all': [0.9012879283999127,\n",
       "   0.9035832587547508,\n",
       "   0.9036979076102707,\n",
       "   0.9260571428571429,\n",
       "   0.9247183916805055],\n",
       "  'AUC_balanced': [0.8827210884353741,\n",
       "   0.912743118290998,\n",
       "   0.9196673525377229,\n",
       "   0.9138321995464852,\n",
       "   0.9436134387970867]}}"
      ]
     },
     "execution_count": 94,
     "metadata": {},
     "output_type": "execute_result"
    }
   ],
   "source": [
    "#featuresets"
   ]
  },
  {
   "cell_type": "code",
   "execution_count": 96,
   "metadata": {},
   "outputs": [
    {
     "data": {
      "text/plain": [
       "[['CADD-numerical_cis-eqtls-10000bp', 0.9543895948405604],\n",
       " ['CADD_cis-eqtls-100bp', 0.953186259956117],\n",
       " ['CADD-all', 0.9530162432843395],\n",
       " ['CADD-numerical', 0.9524818255222713],\n",
       " ['CADD_nc-predictors_cis-eqtls-100bp-10000bp_trans_eqtls_500bp-1000bp',\n",
       "  0.9145154395215334],\n",
       " ['CADD_nc-predictors_cis-eqtls-100bp-10000bp_trans_eqtls_500bp',\n",
       "  0.9143617211464082],\n",
       " ['CADD_nc-predictors_cis-eqtls-100bp', 0.9118764615638639],\n",
       " ['CADD_nc-predictors_cis-eqtls-100bp-10000bp', 0.9106766084989791],\n",
       " ['CADD_nc-predictors', 0.9047097498362413],\n",
       " ['nc-predictors', 0.8349491833403222],\n",
       " ['deepsea-features', 0.7284232293950201]]"
      ]
     },
     "execution_count": 96,
     "metadata": {},
     "output_type": "execute_result"
    }
   ],
   "source": [
    "sort_results(featuresets)"
   ]
  },
  {
   "cell_type": "code",
   "execution_count": null,
   "metadata": {},
   "outputs": [],
   "source": []
  },
  {
   "cell_type": "code",
   "execution_count": 97,
   "metadata": {},
   "outputs": [],
   "source": [
    "x = {\"SMOTE_ss0.1\": {\"AP\": [0.7171203873126071, 0.7185156355562089, 0.6974210541944362, 0.705934519935945, 0.7154742376903334], \"AUC_all\": [0.959005913625858, 0.9533325564754382, 0.9465344690646574, 0.9532731379570538, 0.9522843539216128], \"AUC_balanced\": [0.9627224428066475, 0.9535610461948825, 0.9441886521594509, 0.9533971744192152, 0.9529376236410428]}, \"SMOTE_ss0.2\": {\"AP\": [0.7224060412290212, 0.7086300719482157, 0.6907960716810768, 0.6923769814970021, 0.7074712366219653], \"AUC_all\": [0.9579407660605537, 0.949726559132489, 0.950122882082472, 0.9494267352092199, 0.9531116803645558], \"AUC_balanced\": [0.9603340292275575, 0.9486011654412244, 0.9485040528001961, 0.9491036571488595, 0.95587437194727]}, \"SMOTE_ss0.5\": {\"AP\": [0.7001061295918833, 0.7055017877198907, 0.668585369817621, 0.6910413643395944, 0.7020392689557167], \"AUC_all\": [0.9586184680427868, 0.9505611077403565, 0.9465691230601153, 0.9483058943026001, 0.9510549438709023], \"AUC_balanced\": [0.9618769095322982, 0.9505929628967795, 0.9448407765970483, 0.9488454333782671, 0.9524167994257804]}, \"RandomOverSampler_ss0.1\": {\"AP\": [0.7334616706888836, 0.7110291685574925, 0.7081968237094017, 0.703850283940475, 0.7172814724313725], \"AUC_all\": [0.9624892362569084, 0.9523303442332725, 0.9479037124776062, 0.9518065511377093, 0.9549325540882935], \"AUC_balanced\": [0.9657602608077893, 0.9525586098386949, 0.9462763256945782, 0.9516071147213809, 0.9547014232944101]}, \"RandomOverSampler_ss0.2\": {\"AP\": [0.7386037524694123, 0.7116223324351314, 0.6997544469999911, 0.7023402691258362, 0.7279730613680471], \"AUC_all\": [0.9600436089343246, 0.9478557083157557, 0.9482750522109249, 0.9493626777717079, 0.9562690550345369], \"AUC_balanced\": [0.9637423128385947, 0.948012778884332, 0.9477468881847305, 0.9493181141786733, 0.958014565571331]}, \"RandomOverSampler_ss0.5\": {\"AP\": [0.738639440273559, 0.717060340579333, 0.6976099918480098, 0.7058571375793076, 0.7108403367739934], \"AUC_all\": [0.9610913837281377, 0.9502972382865726, 0.9461734762588926, 0.9492940213386821, 0.9563626774432081], \"AUC_balanced\": [0.9629011379831851, 0.9499479168936678, 0.9457292414348488, 0.9522592391589781, 0.9561982458290297]}}"
   ]
  },
  {
   "cell_type": "code",
   "execution_count": 98,
   "metadata": {},
   "outputs": [
    {
     "data": {
      "text/plain": [
       "[['RandomOverSampler_ss0.1', 0.9541807468713707],\n",
       " ['RandomOverSampler_ss0.5', 0.9534071562599419],\n",
       " ['RandomOverSampler_ss0.2', 0.9533669319315322],\n",
       " ['SMOTE_ss0.1', 0.9533613878442478],\n",
       " ['SMOTE_ss0.2', 0.9524834553130216],\n",
       " ['SMOTE_ss0.5', 0.9517145763660346]]"
      ]
     },
     "execution_count": 98,
     "metadata": {},
     "output_type": "execute_result"
    }
   ],
   "source": [
    "sort_results(x)"
   ]
  },
  {
   "cell_type": "code",
   "execution_count": 99,
   "metadata": {},
   "outputs": [
    {
     "data": {
      "text/plain": [
       "[['CADD_cis-eqtls-10000bp', 0.9565997480600374],\n",
       " ['CADD-all', 0.9558614991716302],\n",
       " ['CADD-numerical_cis-eqtls-10000bp', 0.9547230596329666],\n",
       " ['CADD-numerical', 0.95362544747404],\n",
       " ['CADD-numerical_deepSEA-1', 0.9480639457778878],\n",
       " ['CADD-numerical_deepSEA-5', 0.9475995548837938],\n",
       " ['CADD-numerical_deepSEA-10', 0.9473856749252623],\n",
       " ['CADD_nc-predictors', 0.9039795259110216],\n",
       " ['CADD-numerical_nc-predictors', 0.9003158217636816],\n",
       " ['nc-predictors', 0.8272017708877948]]"
      ]
     },
     "execution_count": 99,
     "metadata": {},
     "output_type": "execute_result"
    }
   ],
   "source": [
    "sort_results(return_results_dict('featuresets_20191213-162239.txt'))"
   ]
  },
  {
   "cell_type": "code",
   "execution_count": 100,
   "metadata": {},
   "outputs": [
    {
     "data": {
      "text/plain": [
       "[['CADD-all', 0.9572033838157747],\n",
       " ['CADD_cis-eqtls-10000bp', 0.956553823337261],\n",
       " ['CADD-numerical_cis-eqtls-10000bp', 0.9556674386931983],\n",
       " ['CADD-numerical', 0.9549952377423796],\n",
       " ['CADD-numerical_deepSEA-10', 0.9499327017040701],\n",
       " ['CADD-numerical_deepSEA-5', 0.9482944788763369],\n",
       " ['CADD-numerical_deepSEA-1', 0.9478574641149903],\n",
       " ['CADD-numerical_nc-predictors', 0.9017859399535665],\n",
       " ['CADD_nc-predictors', 0.8986392288274138],\n",
       " ['nc-predictors', 0.8343623158561101]]"
      ]
     },
     "execution_count": 100,
     "metadata": {},
     "output_type": "execute_result"
    }
   ],
   "source": [
    "sort_results(return_results_dict('featuresets_20191213-162834.txt'))"
   ]
  },
  {
   "cell_type": "code",
   "execution_count": 101,
   "metadata": {},
   "outputs": [
    {
     "data": {
      "text/plain": [
       "[['CADD-all', 0.9572033838157747],\n",
       " ['CADD_cis-eqtls-10000bp', 0.956553823337261],\n",
       " ['CADD-numerical_cis-eqtls-10000bp', 0.9556674386931983],\n",
       " ['CADD-numerical', 0.9549952377423796],\n",
       " ['CADD-numerical_deepSEA-10', 0.9499327017040701],\n",
       " ['CADD-numerical_deepSEA-5', 0.9482944788763369],\n",
       " ['CADD-numerical_deepSEA-1', 0.9478574641149903],\n",
       " ['CADD_cis-eqtls-10000bp_nc-predictors', 0.9129026944743026],\n",
       " ['CADD_cis-eqtls-10000bp_nc-predictors_deepSEA-5', 0.9094332014412378],\n",
       " ['CADD-numerical_nc-predictors', 0.9017859399535665],\n",
       " ['CADD_nc-predictors', 0.8986392288274138],\n",
       " ['nc-predictors', 0.8343623158561101]]"
      ]
     },
     "execution_count": 101,
     "metadata": {},
     "output_type": "execute_result"
    }
   ],
   "source": [
    "sort_results(return_results_dict('featuresets_20191213-163258.txt'))"
   ]
  },
  {
   "cell_type": "code",
   "execution_count": 102,
   "metadata": {},
   "outputs": [
    {
     "data": {
      "text/plain": [
       "[['CADD-all', 0.9579944004835393],\n",
       " ['CADD-numerical', 0.9578499931344574],\n",
       " ['CADD_cis-eqtls-10000bp', 0.9573175281192146],\n",
       " ['CADD-numerical_cis-eqtls-10000bp', 0.9556050582710057],\n",
       " ['CADD-numerical_deepSEA-5', 0.9508597928395501],\n",
       " ['CADD-numerical_deepSEA-1', 0.9506631669838466],\n",
       " ['CADD-numerical_deepSEA-10', 0.9500908397444603],\n",
       " ['CADD_cis-eqtls-10000bp_nc-predictors', 0.9122946437392079],\n",
       " ['CADD_cis-eqtls-10000bp_nc-predictors_deepSEA-5', 0.910595779933917],\n",
       " ['CADD_nc-predictors', 0.9083376365201344],\n",
       " ['CADD-numerical_nc-predictors', 0.904346494358386],\n",
       " ['nc-predictors', 0.8317639448227869]]"
      ]
     },
     "execution_count": 102,
     "metadata": {},
     "output_type": "execute_result"
    }
   ],
   "source": [
    "sort_results(return_results_dict('featuresets_20191213-163809.txt'))"
   ]
  },
  {
   "cell_type": "code",
   "execution_count": 103,
   "metadata": {},
   "outputs": [
    {
     "data": {
      "text/plain": [
       "[['Pval 0.05 + D1', 0.9235070628231679],\n",
       " ['Pval 0.01 + D1', 0.9212886004567385],\n",
       " ['Pval 0.0001D1', 0.9183576666946927],\n",
       " ['Pval 0.001D1', 0.9183576666946927],\n",
       " ['Pval 0.01', 0.9154131621909704],\n",
       " ['Pval 0.05', 0.9146443217813527],\n",
       " ['Pval 0.0001', 0.9111491112200752],\n",
       " ['Pval 0.001', 0.9111491112200752]]"
      ]
     },
     "execution_count": 103,
     "metadata": {},
     "output_type": "execute_result"
    }
   ],
   "source": [
    "sort_results(return_results_dict('featuresets_20191216-112712_rs0.txt'))"
   ]
  },
  {
   "cell_type": "code",
   "execution_count": null,
   "metadata": {},
   "outputs": [],
   "source": [
    "sort_results(return_results_dict('featuresets_20191216-125050_rs0.txt'))"
   ]
  },
  {
   "cell_type": "code",
   "execution_count": 83,
   "metadata": {},
   "outputs": [
    {
     "data": {
      "text/plain": [
       "[['all-features', 0.9637873203362688],\n",
       " ['CADD', 0.9518198651807179],\n",
       " ['CADD_deepsea-top20', 0.9513251020094959],\n",
       " ['nc-predictors', 0.9255517769216393]]"
      ]
     },
     "execution_count": 83,
     "metadata": {},
     "output_type": "execute_result"
    }
   ],
   "source": [
    "sort_results(return_results_dict('featuresets__20191222-212236_rs53_big-tree.txt'))"
   ]
  },
  {
   "cell_type": "code",
   "execution_count": 79,
   "metadata": {},
   "outputs": [
    {
     "data": {
      "text/plain": [
       "[['all-features', 0.9637873203362688],\n",
       " ['CADD', 0.9518198651807179],\n",
       " ['CADD_deepsea-top20', 0.9513251020094959],\n",
       " ['nc-predictors', 0.9255517769216393]]"
      ]
     },
     "execution_count": 79,
     "metadata": {},
     "output_type": "execute_result"
    }
   ],
   "source": [
    "sort_results(return_results_dict('featuresets__20191222-212526_rs53_middle-tree.txt'))"
   ]
  },
  {
   "cell_type": "code",
   "execution_count": 82,
   "metadata": {},
   "outputs": [
    {
     "data": {
      "text/plain": [
       "[['all-features', 0.9637415249907114],\n",
       " ['CADD_deepsea-top20', 0.9494813113174352],\n",
       " ['CADD', 0.9489381380542768],\n",
       " ['nc-predictors', 0.9267674711206674]]"
      ]
     },
     "execution_count": 82,
     "metadata": {},
     "output_type": "execute_result"
    }
   ],
   "source": [
    "sort_results(return_results_dict('featuresets__20191222-212805_rs53_small-tree.txt'))"
   ]
  },
  {
   "cell_type": "code",
   "execution_count": 84,
   "metadata": {},
   "outputs": [
    {
     "data": {
      "text/plain": [
       "[['all-features', 0.9618661199024544],\n",
       " ['CADD_deepsea-top20', 0.9485740051485182],\n",
       " ['CADD', 0.9477717820413366],\n",
       " ['nc-predictors', 0.9304439424382712]]"
      ]
     },
     "execution_count": 84,
     "metadata": {},
     "output_type": "execute_result"
    }
   ],
   "source": [
    "sort_results(return_results_dict('featuresets__20191222-213041_rs53_small-small-tree.txt'))"
   ]
  },
  {
   "cell_type": "code",
   "execution_count": 85,
   "metadata": {},
   "outputs": [
    {
     "data": {
      "text/plain": [
       "[['all-features', 0.9568233500774376],\n",
       " ['CADD_deepsea-top20', 0.9460359536737505],\n",
       " ['CADD', 0.9448632176310664],\n",
       " ['nc-predictors', 0.9273139185437398]]"
      ]
     },
     "execution_count": 85,
     "metadata": {},
     "output_type": "execute_result"
    }
   ],
   "source": [
    "sort_results(return_results_dict('featuresets__20191222-213327_rs87_big-tree.txt'))"
   ]
  },
  {
   "cell_type": "code",
   "execution_count": 86,
   "metadata": {},
   "outputs": [
    {
     "data": {
      "text/plain": [
       "[['all-features', 0.9650930135484364],\n",
       " ['CADD', 0.9524929334786032],\n",
       " ['CADD_deepsea-top20', 0.949658157236102],\n",
       " ['nc-predictors', 0.9270474333150149]]"
      ]
     },
     "execution_count": 86,
     "metadata": {},
     "output_type": "execute_result"
    }
   ],
   "source": [
    "sort_results(return_results_dict('featuresets__20191222-214450_rs87-middle-tree.txt'))"
   ]
  },
  {
   "cell_type": "code",
   "execution_count": 87,
   "metadata": {},
   "outputs": [
    {
     "data": {
      "text/plain": [
       "[['all-features', 0.9627900772199196],\n",
       " ['CADD_deepsea-top20', 0.9489580962706137],\n",
       " ['CADD', 0.9488475017062672],\n",
       " ['nc-predictors', 0.9322200100725677]]"
      ]
     },
     "execution_count": 87,
     "metadata": {},
     "output_type": "execute_result"
    }
   ],
   "source": [
    "sort_results(return_results_dict('featuresets__20191222-214754_rs87-small.txt'))"
   ]
  },
  {
   "cell_type": "code",
   "execution_count": null,
   "metadata": {},
   "outputs": [],
   "source": []
  },
  {
   "cell_type": "code",
   "execution_count": null,
   "metadata": {},
   "outputs": [],
   "source": []
  },
  {
   "cell_type": "code",
   "execution_count": null,
   "metadata": {},
   "outputs": [],
   "source": []
  },
  {
   "cell_type": "code",
   "execution_count": null,
   "metadata": {},
   "outputs": [],
   "source": []
  },
  {
   "cell_type": "markdown",
   "metadata": {},
   "source": [
    "<h3>Feature importance</h3>"
   ]
  },
  {
   "cell_type": "code",
   "execution_count": 93,
   "metadata": {},
   "outputs": [],
   "source": [
    "def plot_feature_importance(path, use_clusters_as_labels=True, print_features=False, figsize=(10,5)):\n",
    "    feature_importances = return_results_dict(path)\n",
    "    \n",
    "    mean_aucs = list([[x, 1-np.mean(feature_importances[x]['AUC_balanced']), np.std(feature_importances[x]['AUC_balanced']), feature_importances[x]['features_left_out']] for x in feature_importances ]) #if x != 'None'\n",
    "    mean_aucs = sorted(mean_aucs, key=lambda x: x[1])[::-1]\n",
    "    #0=cluster nr, 1=1-AUC, 2=sd, 3=features\n",
    "    \n",
    "    if use_clusters_as_labels:\n",
    "        labels = [x[0] for x in mean_aucs]\n",
    "    else:\n",
    "        labels = ['\\n'.join(x[3]) for x in mean_aucs]\n",
    "    values = [x[1] for x in mean_aucs]\n",
    "    stdevs = [x[2] for x in mean_aucs]\n",
    "    \n",
    "    plt.figure(figsize=figsize)\n",
    "    sns.set()\n",
    "    sns.barplot(y=labels, x=values, orient='h', order=labels, xerr=stdevs, color='#3ba3cc')\n",
    "    plt.xlabel('loss: 1-AUC')\n",
    "    \n",
    "    if print_features:\n",
    "        for x in mean_aucs:\n",
    "            print(x[0], round(1-x[1], 4), x[3])\n",
    "    return(mean_aucs)"
   ]
  },
  {
   "cell_type": "code",
   "execution_count": 94,
   "metadata": {},
   "outputs": [
    {
     "name": "stdout",
     "output_type": "stream",
     "text": [
      "11 0.9284 ['GerpN', 'GerpS', 'mamPhCons', 'mamPhyloP', 'priPhCons', 'priPhyloP', 'verPhCons', 'verPhyloP', 'RawScore', 'ReMM_score', 'DeepSEA_Functional_significance_score', 'Eigen_raw', 'LINSIGHT_score']\n",
      "20 0.9545 ['Freq10000bp', 'Freq1000bp', 'Freq100bp', 'bStatistic', 'cis_eqtls_10000bp']\n",
      "21 0.9601 ['CpG', 'EncH3K27Ac', 'EncH3K4Me3', 'GC', 'Rare10000bp', 'Rare1000bp', 'Rare100bp', 'Sngl10000bp', 'Sngl1000bp', 'Sngl100bp', 'cHmmTssA', 'cHmmTxWk', 'Eigen PC_raw']\n",
      "10 0.9608 ['minDistTSE', 'minDistTSS']\n",
      "23 0.9612 ['EncExp']\n",
      "16 0.9619 ['Segway_TF0']\n",
      "3 0.962 ['K562|H3K36me3|None', 'NHLF|H4K20me1|None', 'K562|Pol2(phosphoS2)|None.1', 'Monocytes-CD14+RO01746\\xa0|H3K36me3|None']\n",
      "5 0.962 ['NHEK|H3K27me3|None', 'Dnd41|EZH2|None', 'Monocytes-CD14+RO01746\\xa0|H3K27me3|None', 'HSMM|EZH2|None', 'HepG2|EZH2|None']\n",
      "6 0.962 ['HepG2|Pol2(phosphoS2)|None', 'H1-hESC|Pol2-4H8|None', 'HeLa-S3|ZZZ3|None', 'GM12878|TR4|None', 'NHEK|Pol2(b)|None']\n",
      "14 0.9621 ['cHmmBivFlnk', 'cHmmEnhBiv', 'cHmmTssBiv']\n",
      "19 0.9622 ['Segway_GE1']\n",
      "1 0.9623 ['Ref_A', 'Ref_G', 'Alt_A', 'Alt_G']\n",
      "17 0.9623 ['cHmmEnhG', 'Segway_GE2']\n",
      "18 0.9625 ['cHmmQuies', 'cHmmTx', 'Segway_GE0', 'Segway_TF2', 'Segway_other']\n",
      "7 0.9626 ['GM12878|ZEB1|None']\n",
      "9 0.9629 ['Dist2Mutation']\n",
      "15 0.963 ['cHmmReprPC', 'cHmmReprPCWk']\n",
      "2 0.9632 ['Ref_C', 'Ref_T', 'Alt_C', 'Alt_T']\n",
      "13 0.9632 ['cHmmTxFlnk']\n",
      "None 0.9632 []\n",
      "8 0.9634 ['cHmmHet', 'cHmmZnfRpts']\n",
      "22 0.9634 ['EncNucleo']\n",
      "12 0.9636 ['EncH3K4Me1', 'cHmmEnh', 'cHmmTssAFlnk']\n",
      "4 0.9637 ['SH-SY5Y|GATA-2|None', 'SK-N-SH_RA|p300|None', 'SK-N-SH_RA|DNase|None', 'SH-SY5Y|GATA3|None', 'HUVEC|GATA-2|None']\n"
     ]
    },
    {
     "data": {
      "image/png": "[encoded data removed]",
      "text/plain": [
       "<Figure size 720x360 with 1 Axes>"
      ]
     },
     "metadata": {},
     "output_type": "display_data"
    }
   ],
   "source": [
    "aucs = plot_feature_importance('feature-importances__20191222-230725_rs53.txt', print_features=True)"
   ]
  },
  {
   "cell_type": "code",
   "execution_count": 95,
   "metadata": {},
   "outputs": [
    {
     "data": {
      "image/png": "[encoded data removed]",
      "text/plain": [
       "<Figure size 720x360 with 1 Axes>"
      ]
     },
     "metadata": {},
     "output_type": "display_data"
    }
   ],
   "source": [
    "aucs = plot_feature_importance('feature-importances__20191222-233156_rs87.txt')"
   ]
  },
  {
   "cell_type": "code",
   "execution_count": null,
   "metadata": {},
   "outputs": [],
   "source": []
  },
  {
   "cell_type": "code",
   "execution_count": null,
   "metadata": {},
   "outputs": [],
   "source": []
  },
  {
   "cell_type": "code",
   "execution_count": null,
   "metadata": {},
   "outputs": [],
   "source": []
  },
  {
   "cell_type": "code",
   "execution_count": null,
   "metadata": {},
   "outputs": [],
   "source": []
  },
  {
   "cell_type": "code",
   "execution_count": null,
   "metadata": {},
   "outputs": [],
   "source": []
  },
  {
   "cell_type": "code",
   "execution_count": null,
   "metadata": {},
   "outputs": [],
   "source": []
  },
  {
   "cell_type": "code",
   "execution_count": null,
   "metadata": {},
   "outputs": [],
   "source": []
  },
  {
   "cell_type": "code",
   "execution_count": null,
   "metadata": {},
   "outputs": [],
   "source": []
  }
 ],
 "metadata": {
  "kernelspec": {
   "display_name": "Python (py3_vp)",
   "language": "python",
   "name": "py3_vp"
  },
  "language_info": {
   "codemirror_mode": {
    "name": "ipython",
    "version": 3
   },
   "file_extension": ".py",
   "mimetype": "text/x-python",
   "name": "python",
   "nbconvert_exporter": "python",
   "pygments_lexer": "ipython3",
   "version": "3.7.4"
  }
 },
 "nbformat": 4,
 "nbformat_minor": 2
}
