{
 "cells": [
  {
   "cell_type": "code",
   "execution_count": 82,
   "metadata": {},
   "outputs": [],
   "source": [
    "import pandas as pd\n",
    "from sklearn.metrics import auc, accuracy_score, confusion_matrix, mean_squared_error, roc_curve, roc_auc_score, precision_recall_curve\n",
    "from matplotlib import pyplot as plt\n",
    "import seaborn as sns\n",
    "import re"
   ]
  },
  {
   "cell_type": "code",
   "execution_count": 83,
   "metadata": {},
   "outputs": [],
   "source": [
    "train = pd.read_csv('../data/train_nc_nctools-predictions.txt', sep='\\t')"
   ]
  },
  {
   "cell_type": "code",
   "execution_count": 84,
   "metadata": {},
   "outputs": [
    {
     "data": {
      "text/html": [
       "<div>\n",
       "<style scoped>\n",
       "    .dataframe tbody tr th:only-of-type {\n",
       "        vertical-align: middle;\n",
       "    }\n",
       "\n",
       "    .dataframe tbody tr th {\n",
       "        vertical-align: top;\n",
       "    }\n",
       "\n",
       "    .dataframe thead th {\n",
       "        text-align: right;\n",
       "    }\n",
       "</style>\n",
       "<table border=\"1\" class=\"dataframe\">\n",
       "  <thead>\n",
       "    <tr style=\"text-align: right;\">\n",
       "      <th></th>\n",
       "      <th>#Chrom</th>\n",
       "      <th>Ref</th>\n",
       "      <th>Alt</th>\n",
       "      <th>ReMM_score</th>\n",
       "      <th>DeepSEA_Functional_significance_score</th>\n",
       "      <th>binarized_label</th>\n",
       "      <th>sample_weight</th>\n",
       "    </tr>\n",
       "  </thead>\n",
       "  <tbody>\n",
       "    <tr>\n",
       "      <td>0</td>\n",
       "      <td>20</td>\n",
       "      <td>ACT</td>\n",
       "      <td>A</td>\n",
       "      <td>NaN</td>\n",
       "      <td>0.000261</td>\n",
       "      <td>1</td>\n",
       "      <td>1.0</td>\n",
       "    </tr>\n",
       "    <tr>\n",
       "      <td>1</td>\n",
       "      <td>20</td>\n",
       "      <td>CT</td>\n",
       "      <td>C</td>\n",
       "      <td>NaN</td>\n",
       "      <td>NaN</td>\n",
       "      <td>1</td>\n",
       "      <td>1.0</td>\n",
       "    </tr>\n",
       "    <tr>\n",
       "      <td>2</td>\n",
       "      <td>2</td>\n",
       "      <td>C</td>\n",
       "      <td>CC</td>\n",
       "      <td>NaN</td>\n",
       "      <td>0.003451</td>\n",
       "      <td>1</td>\n",
       "      <td>1.0</td>\n",
       "    </tr>\n",
       "    <tr>\n",
       "      <td>3</td>\n",
       "      <td>4</td>\n",
       "      <td>GGTGA</td>\n",
       "      <td>G</td>\n",
       "      <td>NaN</td>\n",
       "      <td>0.003184</td>\n",
       "      <td>1</td>\n",
       "      <td>1.0</td>\n",
       "    </tr>\n",
       "    <tr>\n",
       "      <td>4</td>\n",
       "      <td>2</td>\n",
       "      <td>GG</td>\n",
       "      <td>G</td>\n",
       "      <td>NaN</td>\n",
       "      <td>0.004027</td>\n",
       "      <td>1</td>\n",
       "      <td>1.0</td>\n",
       "    </tr>\n",
       "    <tr>\n",
       "      <td>...</td>\n",
       "      <td>...</td>\n",
       "      <td>...</td>\n",
       "      <td>...</td>\n",
       "      <td>...</td>\n",
       "      <td>...</td>\n",
       "      <td>...</td>\n",
       "      <td>...</td>\n",
       "    </tr>\n",
       "    <tr>\n",
       "      <td>81135</td>\n",
       "      <td>1</td>\n",
       "      <td>T</td>\n",
       "      <td>A</td>\n",
       "      <td>0.644</td>\n",
       "      <td>0.055760</td>\n",
       "      <td>0</td>\n",
       "      <td>0.8</td>\n",
       "    </tr>\n",
       "    <tr>\n",
       "      <td>81136</td>\n",
       "      <td>17</td>\n",
       "      <td>C</td>\n",
       "      <td>T</td>\n",
       "      <td>0.085</td>\n",
       "      <td>0.078554</td>\n",
       "      <td>0</td>\n",
       "      <td>0.8</td>\n",
       "    </tr>\n",
       "    <tr>\n",
       "      <td>81137</td>\n",
       "      <td>2</td>\n",
       "      <td>A</td>\n",
       "      <td>G</td>\n",
       "      <td>0.069</td>\n",
       "      <td>0.052555</td>\n",
       "      <td>0</td>\n",
       "      <td>0.8</td>\n",
       "    </tr>\n",
       "    <tr>\n",
       "      <td>81138</td>\n",
       "      <td>22</td>\n",
       "      <td>C</td>\n",
       "      <td>G</td>\n",
       "      <td>0.027</td>\n",
       "      <td>0.118910</td>\n",
       "      <td>0</td>\n",
       "      <td>0.8</td>\n",
       "    </tr>\n",
       "    <tr>\n",
       "      <td>81139</td>\n",
       "      <td>3</td>\n",
       "      <td>C</td>\n",
       "      <td>T</td>\n",
       "      <td>0.996</td>\n",
       "      <td>0.001590</td>\n",
       "      <td>0</td>\n",
       "      <td>0.8</td>\n",
       "    </tr>\n",
       "  </tbody>\n",
       "</table>\n",
       "<p>81140 rows × 7 columns</p>\n",
       "</div>"
      ],
      "text/plain": [
       "      #Chrom    Ref Alt  ReMM_score  DeepSEA_Functional_significance_score  \\\n",
       "0         20    ACT   A         NaN                               0.000261   \n",
       "1         20     CT   C         NaN                                    NaN   \n",
       "2          2      C  CC         NaN                               0.003451   \n",
       "3          4  GGTGA   G         NaN                               0.003184   \n",
       "4          2     GG   G         NaN                               0.004027   \n",
       "...      ...    ...  ..         ...                                    ...   \n",
       "81135      1      T   A       0.644                               0.055760   \n",
       "81136     17      C   T       0.085                               0.078554   \n",
       "81137      2      A   G       0.069                               0.052555   \n",
       "81138     22      C   G       0.027                               0.118910   \n",
       "81139      3      C   T       0.996                               0.001590   \n",
       "\n",
       "       binarized_label  sample_weight  \n",
       "0                    1            1.0  \n",
       "1                    1            1.0  \n",
       "2                    1            1.0  \n",
       "3                    1            1.0  \n",
       "4                    1            1.0  \n",
       "...                ...            ...  \n",
       "81135                0            0.8  \n",
       "81136                0            0.8  \n",
       "81137                0            0.8  \n",
       "81138                0            0.8  \n",
       "81139                0            0.8  \n",
       "\n",
       "[81140 rows x 7 columns]"
      ]
     },
     "execution_count": 84,
     "metadata": {},
     "output_type": "execute_result"
    }
   ],
   "source": [
    "train[['#Chrom', 'Ref', 'Alt', 'ReMM_score', 'DeepSEA_Functional_significance_score', 'binarized_label', 'sample_weight']]"
   ]
  },
  {
   "cell_type": "code",
   "execution_count": 85,
   "metadata": {},
   "outputs": [
    {
     "data": {
      "text/plain": [
       "0.8    74902\n",
       "1.0     6238\n",
       "Name: sample_weight, dtype: int64"
      ]
     },
     "execution_count": 85,
     "metadata": {},
     "output_type": "execute_result"
    }
   ],
   "source": [
    "train['sample_weight'].value_counts()"
   ]
  },
  {
   "cell_type": "markdown",
   "metadata": {},
   "source": [
    "<h3>Scaling predictions between 0 - 1</h3>\n",
    "\n",
    "To easily compare predictions with each other, scale all of them between 0 and 1. "
   ]
  },
  {
   "cell_type": "code",
   "execution_count": 87,
   "metadata": {},
   "outputs": [
    {
     "data": {
      "text/plain": [
       "ReMM_score                                1.000000\n",
       "DeepSEA_Functional_significance_score     0.804400\n",
       "Eigen-raw                                 3.834147\n",
       "Eigen-phred                              53.846400\n",
       "Eigen-PC-raw                             10.676047\n",
       "Eigen-PC-phred                           50.580700\n",
       "dtype: float64"
      ]
     },
     "execution_count": 87,
     "metadata": {},
     "output_type": "execute_result"
    }
   ],
   "source": [
    "#Max values\n",
    "train[['ReMM_score', 'DeepSEA_Functional_significance_score', 'Eigen-raw', 'Eigen-phred', 'Eigen-PC-raw', 'Eigen-PC-phred']].max()"
   ]
  },
  {
   "cell_type": "code",
   "execution_count": 89,
   "metadata": {},
   "outputs": [
    {
     "data": {
      "text/plain": [
       "ReMM_score                               0.000000\n",
       "DeepSEA_Functional_significance_score    0.000010\n",
       "Eigen-raw                               -1.507438\n",
       "Eigen-phred                              0.000049\n",
       "Eigen-PC-raw                            -0.360362\n",
       "Eigen-PC-phred                           0.000128\n",
       "dtype: float64"
      ]
     },
     "execution_count": 89,
     "metadata": {},
     "output_type": "execute_result"
    }
   ],
   "source": [
    "#Min values\n",
    "train[['ReMM_score', 'DeepSEA_Functional_significance_score', 'Eigen-raw', 'Eigen-phred', 'Eigen-PC-raw', 'Eigen-PC-phred']].min()"
   ]
  },
  {
   "cell_type": "code",
   "execution_count": 97,
   "metadata": {},
   "outputs": [],
   "source": [
    "scale_min_max = lambda x: (train[x] - train[x].min()) / (train[x].max() - train[x].min())\n",
    "train['Eigen-raw-scaled'] = scale_min_max('Eigen-raw')\n",
    "train['Eigen PC-raw-scaled'] = scale_min_max('Eigen-PC-raw')\n",
    "#train['Eigen-raw-scaled'] = (train['Eigen-raw'] - train['Eigen-raw'].min()) / (train['Eigen-raw'].max() - train['Eigen-raw'].min())"
   ]
  },
  {
   "cell_type": "markdown",
   "metadata": {},
   "source": [
    "<h3>Plotting</h3>"
   ]
  },
  {
   "cell_type": "code",
   "execution_count": 99,
   "metadata": {},
   "outputs": [],
   "source": [
    "tools = ['ReMM_score', 'DeepSEA_Functional_significance_score', 'Eigen-raw-scaled', 'Eigen PC-raw-scaled']\n",
    "df = pd.melt(train[tools + ['label']], id_vars='label', value_vars=tools)\n",
    "df['Tool'] = df['variable'].apply(lambda x: re.split(r'-|_', x)[0])"
   ]
  },
  {
   "cell_type": "code",
   "execution_count": 100,
   "metadata": {},
   "outputs": [
    {
     "data": {
      "text/plain": [
       "<matplotlib.axes._subplots.AxesSubplot at 0x1a32b626d0>"
      ]
     },
     "execution_count": 100,
     "metadata": {},
     "output_type": "execute_result"
    },
    {
     "data": {
      "image/png": "[encoded data removed]",
      "text/plain": [
       "<Figure size 432x288 with 1 Axes>"
      ]
     },
     "metadata": {
      "needs_background": "light"
     },
     "output_type": "display_data"
    }
   ],
   "source": [
    "sns.violinplot(x='Tool', y=\"value\", hue='label', data=df, palette=\"muted\", split=True)"
   ]
  },
  {
   "cell_type": "code",
   "execution_count": null,
   "metadata": {},
   "outputs": [],
   "source": []
  },
  {
   "cell_type": "code",
   "execution_count": null,
   "metadata": {},
   "outputs": [],
   "source": []
  },
  {
   "cell_type": "markdown",
   "metadata": {},
   "source": [
    "<h3>Precision recall curves</h3>"
   ]
  },
  {
   "cell_type": "code",
   "execution_count": 138,
   "metadata": {},
   "outputs": [],
   "source": [
    "#Drop NA rows for predictions\n",
    "train_filtered = train.dropna(subset=tools)"
   ]
  },
  {
   "cell_type": "code",
   "execution_count": 139,
   "metadata": {},
   "outputs": [],
   "source": [
    "#Only use sample weight == 1\n",
    "train_high_confidence = train_filtered[train_filtered.sample_weight==1]"
   ]
  },
  {
   "cell_type": "code",
   "execution_count": 140,
   "metadata": {},
   "outputs": [],
   "source": []
  },
  {
   "cell_type": "code",
   "execution_count": 111,
   "metadata": {},
   "outputs": [],
   "source": [
    "#Evalute tools for different F-beta scores: more focus on recall/ more focus on specificity\n"
   ]
  },
  {
   "cell_type": "code",
   "execution_count": null,
   "metadata": {},
   "outputs": [],
   "source": []
  },
  {
   "cell_type": "code",
   "execution_count": 142,
   "metadata": {},
   "outputs": [
    {
     "data": {
      "text/plain": [
       "<matplotlib.legend.Legend at 0x1a3422cf50>"
      ]
     },
     "execution_count": 142,
     "metadata": {},
     "output_type": "execute_result"
    },
    {
     "data": {
      "image/png": "[encoded data removed]",
      "text/plain": [
       "<Figure size 648x360 with 1 Axes>"
      ]
     },
     "metadata": {
      "needs_background": "light"
     },
     "output_type": "display_data"
    }
   ],
   "source": [
    "prcurves = {}\n",
    "for tool in tools:\n",
    "    p, r, t = precision_recall_curve(train_high_confidence['binarized_label'], train_high_confidence[tool])\n",
    "    prcurves[tool] = {'p': p, 'r': r, 't':t}\n",
    "    \n",
    "plt.figure(figsize=(9, 5))\n",
    "for t in prcurves:\n",
    "    plt.plot(prcurves[t]['r'], prcurves[t]['p'], label=t)\n",
    "plt.legend()"
   ]
  },
  {
   "cell_type": "code",
   "execution_count": 137,
   "metadata": {},
   "outputs": [
    {
     "data": {
      "text/plain": [
       "array([[  58,   40],\n",
       "       [ 318, 1649]])"
      ]
     },
     "execution_count": 137,
     "metadata": {},
     "output_type": "execute_result"
    }
   ],
   "source": [
    "confusion_matrix(train_filtered['binarized_label'], train_filtered['ReMM_score'].apply(lambda x: 1 if x > 0.8 else 0), labels=[1,0])"
   ]
  },
  {
   "cell_type": "code",
   "execution_count": null,
   "metadata": {},
   "outputs": [],
   "source": []
  },
  {
   "cell_type": "code",
   "execution_count": null,
   "metadata": {},
   "outputs": [],
   "source": []
  },
  {
   "cell_type": "code",
   "execution_count": null,
   "metadata": {},
   "outputs": [],
   "source": []
  },
  {
   "cell_type": "code",
   "execution_count": null,
   "metadata": {},
   "outputs": [],
   "source": []
  },
  {
   "cell_type": "code",
   "execution_count": null,
   "metadata": {},
   "outputs": [],
   "source": []
  },
  {
   "cell_type": "code",
   "execution_count": null,
   "metadata": {},
   "outputs": [],
   "source": []
  },
  {
   "cell_type": "code",
   "execution_count": null,
   "metadata": {},
   "outputs": [],
   "source": []
  }
 ],
 "metadata": {
  "kernelspec": {
   "display_name": "Python (py3_vp)",
   "language": "python",
   "name": "py3_vp"
  },
  "language_info": {
   "codemirror_mode": {
    "name": "ipython",
    "version": 3
   },
   "file_extension": ".py",
   "mimetype": "text/x-python",
   "name": "python",
   "nbconvert_exporter": "python",
   "pygments_lexer": "ipython3",
   "version": "3.7.4"
  }
 },
 "nbformat": 4,
 "nbformat_minor": 2
}
