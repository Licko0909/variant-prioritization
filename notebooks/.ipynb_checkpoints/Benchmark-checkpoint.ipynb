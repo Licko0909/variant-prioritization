{
 "cells": [
  {
   "cell_type": "code",
   "execution_count": 91,
   "metadata": {},
   "outputs": [],
   "source": [
    "import pandas as pd\n",
    "from sklearn.metrics import auc, accuracy_score, confusion_matrix, mean_squared_error, roc_curve, roc_auc_score, precision_recall_curve\n",
    "from matplotlib import pyplot as plt\n",
    "import seaborn as sns\n",
    "import re"
   ]
  },
  {
   "cell_type": "code",
   "execution_count": 92,
   "metadata": {},
   "outputs": [],
   "source": [
    "data = pd.read_csv('../data/data_nc.nctools-predictions.txt', sep='\\t')"
   ]
  },
  {
   "cell_type": "code",
   "execution_count": 95,
   "metadata": {},
   "outputs": [
    {
     "data": {
      "text/plain": [
       "['ReMM_score',\n",
       " 'NCBoost_Score',\n",
       " 'NCBoost_Score-merged-chrom-pos',\n",
       " 'NCBoost_precomputed_score',\n",
       " 'NCBoost_precomputed_score-merged-chrom-pos',\n",
       " 'DeepSEA_Functional_significance_score',\n",
       " 'Eigen-raw',\n",
       " 'Eigen-phred',\n",
       " 'Eigen-PC-raw',\n",
       " 'Eigen-PC-phred',\n",
       " 'Eigen-raw_merged-chr-pos',\n",
       " 'Eigen-PC-raw_merged-chr-pos',\n",
       " 'LINSIGHT_score']"
      ]
     },
     "execution_count": 95,
     "metadata": {},
     "output_type": "execute_result"
    }
   ],
   "source": []
  },
  {
   "cell_type": "code",
   "execution_count": 96,
   "metadata": {},
   "outputs": [
    {
     "data": {
      "text/html": [
       "<div>\n",
       "<style scoped>\n",
       "    .dataframe tbody tr th:only-of-type {\n",
       "        vertical-align: middle;\n",
       "    }\n",
       "\n",
       "    .dataframe tbody tr th {\n",
       "        vertical-align: top;\n",
       "    }\n",
       "\n",
       "    .dataframe thead th {\n",
       "        text-align: right;\n",
       "    }\n",
       "</style>\n",
       "<table border=\"1\" class=\"dataframe\">\n",
       "  <thead>\n",
       "    <tr style=\"text-align: right;\">\n",
       "      <th></th>\n",
       "      <th>ReMM_score</th>\n",
       "      <th>NCBoost_Score</th>\n",
       "      <th>NCBoost_Score-merged-chrom-pos</th>\n",
       "      <th>NCBoost_precomputed_score</th>\n",
       "      <th>NCBoost_precomputed_score-merged-chrom-pos</th>\n",
       "      <th>DeepSEA_Functional_significance_score</th>\n",
       "      <th>Eigen-raw</th>\n",
       "      <th>Eigen-phred</th>\n",
       "      <th>Eigen-PC-raw</th>\n",
       "      <th>Eigen-PC-phred</th>\n",
       "      <th>Eigen-raw_merged-chr-pos</th>\n",
       "      <th>Eigen-PC-raw_merged-chr-pos</th>\n",
       "      <th>LINSIGHT_score</th>\n",
       "    </tr>\n",
       "  </thead>\n",
       "  <tbody>\n",
       "    <tr>\n",
       "      <td>0</td>\n",
       "      <td>0.925</td>\n",
       "      <td>0.043725</td>\n",
       "      <td>0.043725</td>\n",
       "      <td>NaN</td>\n",
       "      <td>NaN</td>\n",
       "      <td>0.052103</td>\n",
       "      <td>1.238354</td>\n",
       "      <td>16.9482</td>\n",
       "      <td>4.016659</td>\n",
       "      <td>22.9740</td>\n",
       "      <td>1.238354</td>\n",
       "      <td>4.016659</td>\n",
       "      <td>0.113951</td>\n",
       "    </tr>\n",
       "    <tr>\n",
       "      <td>1</td>\n",
       "      <td>0.611</td>\n",
       "      <td>0.271459</td>\n",
       "      <td>0.271459</td>\n",
       "      <td>NaN</td>\n",
       "      <td>NaN</td>\n",
       "      <td>0.066242</td>\n",
       "      <td>0.659571</td>\n",
       "      <td>12.9560</td>\n",
       "      <td>4.729346</td>\n",
       "      <td>25.1265</td>\n",
       "      <td>0.659571</td>\n",
       "      <td>4.729346</td>\n",
       "      <td>0.214607</td>\n",
       "    </tr>\n",
       "    <tr>\n",
       "      <td>2</td>\n",
       "      <td>0.987</td>\n",
       "      <td>0.286262</td>\n",
       "      <td>0.286262</td>\n",
       "      <td>NaN</td>\n",
       "      <td>NaN</td>\n",
       "      <td>0.002187</td>\n",
       "      <td>2.062309</td>\n",
       "      <td>29.9619</td>\n",
       "      <td>6.894449</td>\n",
       "      <td>34.0382</td>\n",
       "      <td>2.062309</td>\n",
       "      <td>6.894449</td>\n",
       "      <td>0.055969</td>\n",
       "    </tr>\n",
       "    <tr>\n",
       "      <td>3</td>\n",
       "      <td>0.931</td>\n",
       "      <td>0.233192</td>\n",
       "      <td>0.233192</td>\n",
       "      <td>NaN</td>\n",
       "      <td>NaN</td>\n",
       "      <td>0.019955</td>\n",
       "      <td>1.407326</td>\n",
       "      <td>18.6791</td>\n",
       "      <td>1.703142</td>\n",
       "      <td>16.7387</td>\n",
       "      <td>1.407326</td>\n",
       "      <td>1.703142</td>\n",
       "      <td>0.160774</td>\n",
       "    </tr>\n",
       "    <tr>\n",
       "      <td>4</td>\n",
       "      <td>0.692</td>\n",
       "      <td>0.081881</td>\n",
       "      <td>0.081881</td>\n",
       "      <td>NaN</td>\n",
       "      <td>NaN</td>\n",
       "      <td>0.033797</td>\n",
       "      <td>0.769803</td>\n",
       "      <td>13.7296</td>\n",
       "      <td>1.578439</td>\n",
       "      <td>16.3985</td>\n",
       "      <td>0.769803</td>\n",
       "      <td>1.578439</td>\n",
       "      <td>0.081169</td>\n",
       "    </tr>\n",
       "  </tbody>\n",
       "</table>\n",
       "</div>"
      ],
      "text/plain": [
       "   ReMM_score  NCBoost_Score  NCBoost_Score-merged-chrom-pos  \\\n",
       "0       0.925       0.043725                        0.043725   \n",
       "1       0.611       0.271459                        0.271459   \n",
       "2       0.987       0.286262                        0.286262   \n",
       "3       0.931       0.233192                        0.233192   \n",
       "4       0.692       0.081881                        0.081881   \n",
       "\n",
       "   NCBoost_precomputed_score  NCBoost_precomputed_score-merged-chrom-pos  \\\n",
       "0                        NaN                                         NaN   \n",
       "1                        NaN                                         NaN   \n",
       "2                        NaN                                         NaN   \n",
       "3                        NaN                                         NaN   \n",
       "4                        NaN                                         NaN   \n",
       "\n",
       "   DeepSEA_Functional_significance_score  Eigen-raw  Eigen-phred  \\\n",
       "0                               0.052103   1.238354      16.9482   \n",
       "1                               0.066242   0.659571      12.9560   \n",
       "2                               0.002187   2.062309      29.9619   \n",
       "3                               0.019955   1.407326      18.6791   \n",
       "4                               0.033797   0.769803      13.7296   \n",
       "\n",
       "   Eigen-PC-raw  Eigen-PC-phred  Eigen-raw_merged-chr-pos  \\\n",
       "0      4.016659         22.9740                  1.238354   \n",
       "1      4.729346         25.1265                  0.659571   \n",
       "2      6.894449         34.0382                  2.062309   \n",
       "3      1.703142         16.7387                  1.407326   \n",
       "4      1.578439         16.3985                  0.769803   \n",
       "\n",
       "   Eigen-PC-raw_merged-chr-pos  LINSIGHT_score  \n",
       "0                     4.016659        0.113951  \n",
       "1                     4.729346        0.214607  \n",
       "2                     6.894449        0.055969  \n",
       "3                     1.703142        0.160774  \n",
       "4                     1.578439        0.081169  "
      ]
     },
     "execution_count": 96,
     "metadata": {},
     "output_type": "execute_result"
    }
   ],
   "source": [
    "data[cols].head()"
   ]
  },
  {
   "cell_type": "code",
   "execution_count": 25,
   "metadata": {},
   "outputs": [
    {
     "data": {
      "text/plain": [
       "0.8    74902\n",
       "1.0     6668\n",
       "Name: sample_weight, dtype: int64"
      ]
     },
     "execution_count": 25,
     "metadata": {},
     "output_type": "execute_result"
    }
   ],
   "source": [
    "data['sample_weight'].value_counts()"
   ]
  },
  {
   "cell_type": "code",
   "execution_count": 26,
   "metadata": {},
   "outputs": [
    {
     "data": {
      "text/plain": [
       "Benign        79577\n",
       "Pathogenic     2611\n",
       "Name: label, dtype: int64"
      ]
     },
     "execution_count": 26,
     "metadata": {},
     "output_type": "execute_result"
    }
   ],
   "source": [
    "data.label.value_counts()"
   ]
  },
  {
   "cell_type": "markdown",
   "metadata": {},
   "source": [
    "<h3>Scaling predictions between 0 - 1</h3>\n",
    "\n",
    "To easily compare predictions with each other, scale all of them between 0 and 1. "
   ]
  },
  {
   "cell_type": "code",
   "execution_count": 97,
   "metadata": {},
   "outputs": [
    {
     "data": {
      "text/plain": [
       "ReMM_score                                     1.000000\n",
       "NCBoost_Score                                  0.918831\n",
       "NCBoost_Score-merged-chrom-pos                 0.918831\n",
       "NCBoost_precomputed_score                      0.953254\n",
       "NCBoost_precomputed_score-merged-chrom-pos     0.953254\n",
       "DeepSEA_Functional_significance_score          0.804400\n",
       "Eigen-raw                                      3.834147\n",
       "Eigen-phred                                   53.846400\n",
       "Eigen-PC-raw                                  10.676047\n",
       "Eigen-PC-phred                                50.580700\n",
       "Eigen-raw_merged-chr-pos                       3.834147\n",
       "Eigen-PC-raw_merged-chr-pos                   10.676047\n",
       "LINSIGHT_score                                 0.993462\n",
       "dtype: float64"
      ]
     },
     "execution_count": 97,
     "metadata": {},
     "output_type": "execute_result"
    }
   ],
   "source": [
    "#Max values\n",
    "data[cols].max()"
   ]
  },
  {
   "cell_type": "code",
   "execution_count": 98,
   "metadata": {},
   "outputs": [
    {
     "data": {
      "text/plain": [
       "ReMM_score                                    0.000000\n",
       "NCBoost_Score                                 0.008056\n",
       "NCBoost_Score-merged-chrom-pos                0.008056\n",
       "NCBoost_precomputed_score                     0.009636\n",
       "NCBoost_precomputed_score-merged-chrom-pos    0.009636\n",
       "DeepSEA_Functional_significance_score         0.000010\n",
       "Eigen-raw                                    -1.507438\n",
       "Eigen-phred                                   0.000049\n",
       "Eigen-PC-raw                                 -0.365435\n",
       "Eigen-PC-phred                                0.000089\n",
       "Eigen-raw_merged-chr-pos                     -1.507438\n",
       "Eigen-PC-raw_merged-chr-pos                  -0.365435\n",
       "LINSIGHT_score                                0.034344\n",
       "dtype: float64"
      ]
     },
     "execution_count": 98,
     "metadata": {},
     "output_type": "execute_result"
    }
   ],
   "source": [
    "#Min values\n",
    "data[cols].min()"
   ]
  },
  {
   "cell_type": "markdown",
   "metadata": {},
   "source": [
    "Most scores already seem to range from 0 - 1. Only scale the Eigen and LINSIGHT scores."
   ]
  },
  {
   "cell_type": "code",
   "execution_count": 110,
   "metadata": {},
   "outputs": [],
   "source": [
    "scale_min_max = lambda x: (data[x] - data[x].min()) / (data[x].max() - data[x].min())\n",
    "data['Eigen-raw-scaled'] = scale_min_max('Eigen-raw')\n",
    "data['Eigen PC-raw-scaled'] = scale_min_max('Eigen-PC-raw')\n",
    "data['Eigen-PC-raw_merged-chr-pos-scaled'] = scale_min_max('Eigen-PC-raw_merged-chr-pos')\n",
    "data['Eigen-raw_merged-chr-pos-scaled'] = scale_min_max('Eigen-raw_merged-chr-pos')\n",
    "data['LINSIGHT_score-scaled'] = scale_min_max('LINSIGHT_score')\n",
    "\n",
    "#train['Eigen-raw-scaled'] = (train['Eigen-raw'] - train['Eigen-raw'].min()) / (train['Eigen-raw'].max() - train['Eigen-raw'].min())"
   ]
  },
  {
   "cell_type": "markdown",
   "metadata": {},
   "source": [
    "<h3>Plotting</h3>"
   ]
  },
  {
   "cell_type": "code",
   "execution_count": 113,
   "metadata": {},
   "outputs": [
    {
     "data": {
      "text/plain": [
       "['ReMM_score',\n",
       " 'NCBoost_Score',\n",
       " 'NCBoost_Score-merged-chrom-pos',\n",
       " 'NCBoost_precomputed_score',\n",
       " 'NCBoost_precomputed_score-merged-chrom-pos',\n",
       " 'DeepSEA_Functional_significance_score',\n",
       " 'Eigen-raw',\n",
       " 'Eigen-phred',\n",
       " 'Eigen-PC-raw',\n",
       " 'Eigen-PC-phred',\n",
       " 'Eigen-raw_merged-chr-pos',\n",
       " 'Eigen-PC-raw_merged-chr-pos',\n",
       " 'LINSIGHT_score',\n",
       " 'Eigen-raw-scaled',\n",
       " 'Eigen PC-raw-scaled',\n",
       " 'LINSIGHT_score-scaled',\n",
       " 'Eigen-PC-raw_merged-chr-pos-scaled',\n",
       " 'Eigen-raw_merged-chr-pos-scaled']"
      ]
     },
     "execution_count": 113,
     "metadata": {},
     "output_type": "execute_result"
    }
   ],
   "source": [
    "# cols = [x for x in data.columns if re.search(r'NCBoost_Score|NCBoost_precomputed_score|NCBoost_chr|DeepSEA|ReMM|Eigen|LINSIGHT', x)]\n",
    "cols\n",
    "['ReMM_score',\n",
    " 'NCBoost_Score',\n",
    " 'NCBoost_Score-merged-chrom-pos',\n",
    " 'NCBoost_precomputed_score',\n",
    " 'NCBoost_precomputed_score-merged-chrom-pos',\n",
    " 'DeepSEA_Functional_significance_score',\n",
    "#  'Eigen-raw',\n",
    "#  'Eigen-phred',\n",
    "#  'Eigen-PC-raw',\n",
    "#  'Eigen-PC-phred',\n",
    "#  'Eigen-raw_merged-chr-pos',\n",
    "#  'Eigen-PC-raw_merged-chr-pos',\n",
    "#  'LINSIGHT_score',\n",
    " 'Eigen-raw-scaled',\n",
    " 'Eigen PC-raw-scaled',\n",
    " 'LINSIGHT_score-scaled',\n",
    " 'Eigen-PC-raw_merged-chr-pos-scaled',\n",
    " 'Eigen-raw_merged-chr-pos-scaled'\n",
    "]"
   ]
  },
  {
   "cell_type": "code",
   "execution_count": 112,
   "metadata": {},
   "outputs": [
    {
     "ename": "KeyError",
     "evalue": "\"['Eigen-PC-raw-scaled'] not in index\"",
     "output_type": "error",
     "traceback": [
      "\u001b[0;31m---------------------------------------------------------------------------\u001b[0m",
      "\u001b[0;31mKeyError\u001b[0m                                  Traceback (most recent call last)",
      "\u001b[0;32m<ipython-input-112-61616ece9d71>\u001b[0m in \u001b[0;36m<module>\u001b[0;34m\u001b[0m\n\u001b[0;32m----> 1\u001b[0;31m \u001b[0mdf\u001b[0m \u001b[0;34m=\u001b[0m \u001b[0mpd\u001b[0m\u001b[0;34m.\u001b[0m\u001b[0mmelt\u001b[0m\u001b[0;34m(\u001b[0m\u001b[0mdata\u001b[0m\u001b[0;34m[\u001b[0m\u001b[0mcols\u001b[0m \u001b[0;34m+\u001b[0m \u001b[0;34m[\u001b[0m\u001b[0;34m'label'\u001b[0m\u001b[0;34m]\u001b[0m\u001b[0;34m]\u001b[0m\u001b[0;34m,\u001b[0m \u001b[0mid_vars\u001b[0m\u001b[0;34m=\u001b[0m\u001b[0;34m'label'\u001b[0m\u001b[0;34m,\u001b[0m \u001b[0mvalue_vars\u001b[0m\u001b[0;34m=\u001b[0m\u001b[0mcols\u001b[0m\u001b[0;34m)\u001b[0m\u001b[0;34m\u001b[0m\u001b[0;34m\u001b[0m\u001b[0m\n\u001b[0m",
      "\u001b[0;32m//anaconda3/envs/py3_vp/lib/python3.7/site-packages/pandas/core/frame.py\u001b[0m in \u001b[0;36m__getitem__\u001b[0;34m(self, key)\u001b[0m\n\u001b[1;32m   2984\u001b[0m             \u001b[0;32mif\u001b[0m \u001b[0mis_iterator\u001b[0m\u001b[0;34m(\u001b[0m\u001b[0mkey\u001b[0m\u001b[0;34m)\u001b[0m\u001b[0;34m:\u001b[0m\u001b[0;34m\u001b[0m\u001b[0;34m\u001b[0m\u001b[0m\n\u001b[1;32m   2985\u001b[0m                 \u001b[0mkey\u001b[0m \u001b[0;34m=\u001b[0m \u001b[0mlist\u001b[0m\u001b[0;34m(\u001b[0m\u001b[0mkey\u001b[0m\u001b[0;34m)\u001b[0m\u001b[0;34m\u001b[0m\u001b[0;34m\u001b[0m\u001b[0m\n\u001b[0;32m-> 2986\u001b[0;31m             \u001b[0mindexer\u001b[0m \u001b[0;34m=\u001b[0m \u001b[0mself\u001b[0m\u001b[0;34m.\u001b[0m\u001b[0mloc\u001b[0m\u001b[0;34m.\u001b[0m\u001b[0m_convert_to_indexer\u001b[0m\u001b[0;34m(\u001b[0m\u001b[0mkey\u001b[0m\u001b[0;34m,\u001b[0m \u001b[0maxis\u001b[0m\u001b[0;34m=\u001b[0m\u001b[0;36m1\u001b[0m\u001b[0;34m,\u001b[0m \u001b[0mraise_missing\u001b[0m\u001b[0;34m=\u001b[0m\u001b[0;32mTrue\u001b[0m\u001b[0;34m)\u001b[0m\u001b[0;34m\u001b[0m\u001b[0;34m\u001b[0m\u001b[0m\n\u001b[0m\u001b[1;32m   2987\u001b[0m \u001b[0;34m\u001b[0m\u001b[0m\n\u001b[1;32m   2988\u001b[0m         \u001b[0;31m# take() does not accept boolean indexers\u001b[0m\u001b[0;34m\u001b[0m\u001b[0;34m\u001b[0m\u001b[0;34m\u001b[0m\u001b[0m\n",
      "\u001b[0;32m//anaconda3/envs/py3_vp/lib/python3.7/site-packages/pandas/core/indexing.py\u001b[0m in \u001b[0;36m_convert_to_indexer\u001b[0;34m(self, obj, axis, is_setter, raise_missing)\u001b[0m\n\u001b[1;32m   1283\u001b[0m                 \u001b[0;31m# When setting, missing keys are not allowed, even with .loc:\u001b[0m\u001b[0;34m\u001b[0m\u001b[0;34m\u001b[0m\u001b[0;34m\u001b[0m\u001b[0m\n\u001b[1;32m   1284\u001b[0m                 \u001b[0mkwargs\u001b[0m \u001b[0;34m=\u001b[0m \u001b[0;34m{\u001b[0m\u001b[0;34m\"raise_missing\"\u001b[0m\u001b[0;34m:\u001b[0m \u001b[0;32mTrue\u001b[0m \u001b[0;32mif\u001b[0m \u001b[0mis_setter\u001b[0m \u001b[0;32melse\u001b[0m \u001b[0mraise_missing\u001b[0m\u001b[0;34m}\u001b[0m\u001b[0;34m\u001b[0m\u001b[0;34m\u001b[0m\u001b[0m\n\u001b[0;32m-> 1285\u001b[0;31m                 \u001b[0;32mreturn\u001b[0m \u001b[0mself\u001b[0m\u001b[0;34m.\u001b[0m\u001b[0m_get_listlike_indexer\u001b[0m\u001b[0;34m(\u001b[0m\u001b[0mobj\u001b[0m\u001b[0;34m,\u001b[0m \u001b[0maxis\u001b[0m\u001b[0;34m,\u001b[0m \u001b[0;34m**\u001b[0m\u001b[0mkwargs\u001b[0m\u001b[0;34m)\u001b[0m\u001b[0;34m[\u001b[0m\u001b[0;36m1\u001b[0m\u001b[0;34m]\u001b[0m\u001b[0;34m\u001b[0m\u001b[0;34m\u001b[0m\u001b[0m\n\u001b[0m\u001b[1;32m   1286\u001b[0m         \u001b[0;32melse\u001b[0m\u001b[0;34m:\u001b[0m\u001b[0;34m\u001b[0m\u001b[0;34m\u001b[0m\u001b[0m\n\u001b[1;32m   1287\u001b[0m             \u001b[0;32mtry\u001b[0m\u001b[0;34m:\u001b[0m\u001b[0;34m\u001b[0m\u001b[0;34m\u001b[0m\u001b[0m\n",
      "\u001b[0;32m//anaconda3/envs/py3_vp/lib/python3.7/site-packages/pandas/core/indexing.py\u001b[0m in \u001b[0;36m_get_listlike_indexer\u001b[0;34m(self, key, axis, raise_missing)\u001b[0m\n\u001b[1;32m   1090\u001b[0m \u001b[0;34m\u001b[0m\u001b[0m\n\u001b[1;32m   1091\u001b[0m         self._validate_read_indexer(\n\u001b[0;32m-> 1092\u001b[0;31m             \u001b[0mkeyarr\u001b[0m\u001b[0;34m,\u001b[0m \u001b[0mindexer\u001b[0m\u001b[0;34m,\u001b[0m \u001b[0mo\u001b[0m\u001b[0;34m.\u001b[0m\u001b[0m_get_axis_number\u001b[0m\u001b[0;34m(\u001b[0m\u001b[0maxis\u001b[0m\u001b[0;34m)\u001b[0m\u001b[0;34m,\u001b[0m \u001b[0mraise_missing\u001b[0m\u001b[0;34m=\u001b[0m\u001b[0mraise_missing\u001b[0m\u001b[0;34m\u001b[0m\u001b[0;34m\u001b[0m\u001b[0m\n\u001b[0m\u001b[1;32m   1093\u001b[0m         )\n\u001b[1;32m   1094\u001b[0m         \u001b[0;32mreturn\u001b[0m \u001b[0mkeyarr\u001b[0m\u001b[0;34m,\u001b[0m \u001b[0mindexer\u001b[0m\u001b[0;34m\u001b[0m\u001b[0;34m\u001b[0m\u001b[0m\n",
      "\u001b[0;32m//anaconda3/envs/py3_vp/lib/python3.7/site-packages/pandas/core/indexing.py\u001b[0m in \u001b[0;36m_validate_read_indexer\u001b[0;34m(self, key, indexer, axis, raise_missing)\u001b[0m\n\u001b[1;32m   1183\u001b[0m             \u001b[0;32mif\u001b[0m \u001b[0;32mnot\u001b[0m \u001b[0;34m(\u001b[0m\u001b[0mself\u001b[0m\u001b[0;34m.\u001b[0m\u001b[0mname\u001b[0m \u001b[0;34m==\u001b[0m \u001b[0;34m\"loc\"\u001b[0m \u001b[0;32mand\u001b[0m \u001b[0;32mnot\u001b[0m \u001b[0mraise_missing\u001b[0m\u001b[0;34m)\u001b[0m\u001b[0;34m:\u001b[0m\u001b[0;34m\u001b[0m\u001b[0;34m\u001b[0m\u001b[0m\n\u001b[1;32m   1184\u001b[0m                 \u001b[0mnot_found\u001b[0m \u001b[0;34m=\u001b[0m \u001b[0mlist\u001b[0m\u001b[0;34m(\u001b[0m\u001b[0mset\u001b[0m\u001b[0;34m(\u001b[0m\u001b[0mkey\u001b[0m\u001b[0;34m)\u001b[0m \u001b[0;34m-\u001b[0m \u001b[0mset\u001b[0m\u001b[0;34m(\u001b[0m\u001b[0max\u001b[0m\u001b[0;34m)\u001b[0m\u001b[0;34m)\u001b[0m\u001b[0;34m\u001b[0m\u001b[0;34m\u001b[0m\u001b[0m\n\u001b[0;32m-> 1185\u001b[0;31m                 \u001b[0;32mraise\u001b[0m \u001b[0mKeyError\u001b[0m\u001b[0;34m(\u001b[0m\u001b[0;34m\"{} not in index\"\u001b[0m\u001b[0;34m.\u001b[0m\u001b[0mformat\u001b[0m\u001b[0;34m(\u001b[0m\u001b[0mnot_found\u001b[0m\u001b[0;34m)\u001b[0m\u001b[0;34m)\u001b[0m\u001b[0;34m\u001b[0m\u001b[0;34m\u001b[0m\u001b[0m\n\u001b[0m\u001b[1;32m   1186\u001b[0m \u001b[0;34m\u001b[0m\u001b[0m\n\u001b[1;32m   1187\u001b[0m             \u001b[0;31m# we skip the warning on Categorical/Interval\u001b[0m\u001b[0;34m\u001b[0m\u001b[0;34m\u001b[0m\u001b[0;34m\u001b[0m\u001b[0m\n",
      "\u001b[0;31mKeyError\u001b[0m: \"['Eigen-PC-raw-scaled'] not in index\""
     ]
    }
   ],
   "source": [
    "df = pd.melt(data[cols + ['label']], id_vars='label', value_vars=cols)"
   ]
  },
  {
   "cell_type": "code",
   "execution_count": 105,
   "metadata": {},
   "outputs": [
    {
     "data": {
      "text/plain": [
       "<matplotlib.axes._subplots.AxesSubplot at 0x1a22327090>"
      ]
     },
     "execution_count": 105,
     "metadata": {},
     "output_type": "execute_result"
    },
    {
     "data": {
      "image/png": "[encoded data removed]",
      "text/plain": [
       "<Figure size 576x432 with 1 Axes>"
      ]
     },
     "metadata": {
      "needs_background": "light"
     },
     "output_type": "display_data"
    }
   ],
   "source": [
    "plt.figure(figsize=(8,6))\n",
    "sns.violinplot(x='value', y=\"variable\", hue='label', data=df, palette=\"muted\", split=True)"
   ]
  },
  {
   "cell_type": "code",
   "execution_count": null,
   "metadata": {},
   "outputs": [],
   "source": []
  },
  {
   "cell_type": "code",
   "execution_count": null,
   "metadata": {},
   "outputs": [],
   "source": []
  },
  {
   "cell_type": "code",
   "execution_count": null,
   "metadata": {},
   "outputs": [],
   "source": []
  },
  {
   "cell_type": "code",
   "execution_count": null,
   "metadata": {},
   "outputs": [],
   "source": []
  },
  {
   "cell_type": "code",
   "execution_count": null,
   "metadata": {},
   "outputs": [],
   "source": []
  },
  {
   "cell_type": "code",
   "execution_count": 212,
   "metadata": {},
   "outputs": [
    {
     "name": "stdout",
     "output_type": "stream",
     "text": [
      "0\n",
      "0\n",
      "6675\n"
     ]
    }
   ],
   "source": [
    "print(data_snvs['ReMM_score'].isna().sum())\n",
    "print(data_snvs['DeepSEA_Functional_significance_score'].isna().sum())\n",
    "print(data_snvs['Eigen-raw-scaled'].isna().sum())\n"
   ]
  },
  {
   "cell_type": "code",
   "execution_count": 216,
   "metadata": {},
   "outputs": [
    {
     "data": {
      "text/plain": [
       "['#Chrom',\n",
       " 'Pos',\n",
       " 'Ref',\n",
       " 'Alt',\n",
       " 'NCBoost_closest_gene_name',\n",
       " 'NCBoost_annovar_genomic_region',\n",
       " 'NCBoost_OMIM_diseases',\n",
       " 'NCBoost_HGMD_DM_public',\n",
       " 'NCBoost_ClinVar',\n",
       " 'NCBoost_Smedley',\n",
       " 'NCBoost_data',\n",
       " 'Type',\n",
       " 'Length',\n",
       " 'AnnoType',\n",
       " 'Consequence',\n",
       " 'ConsScore',\n",
       " 'ConsDetail',\n",
       " 'GC',\n",
       " 'CpG',\n",
       " 'motifECount',\n",
       " 'motifEName',\n",
       " 'motifEHIPos',\n",
       " 'motifEScoreChng',\n",
       " 'oAA',\n",
       " 'nAA',\n",
       " 'GeneID',\n",
       " 'FeatureID',\n",
       " 'GeneName',\n",
       " 'CCDS',\n",
       " 'Intron',\n",
       " 'Exon',\n",
       " 'cDNApos',\n",
       " 'relcDNApos',\n",
       " 'CDSpos',\n",
       " 'relCDSpos',\n",
       " 'protPos',\n",
       " 'relProtPos',\n",
       " 'Domain',\n",
       " 'Dst2Splice',\n",
       " 'Dst2SplType',\n",
       " 'minDistTSS',\n",
       " 'minDistTSE',\n",
       " 'SIFTcat',\n",
       " 'SIFTval',\n",
       " 'PolyPhenCat',\n",
       " 'PolyPhenVal',\n",
       " 'priPhCons',\n",
       " 'mamPhCons',\n",
       " 'verPhCons',\n",
       " 'priPhyloP',\n",
       " 'mamPhyloP',\n",
       " 'verPhyloP',\n",
       " 'bStatistic',\n",
       " 'targetScan',\n",
       " 'mirSVR-Score',\n",
       " 'mirSVR-E',\n",
       " 'mirSVR-Aln',\n",
       " 'cHmmTssA',\n",
       " 'cHmmTssAFlnk',\n",
       " 'cHmmTxFlnk',\n",
       " 'cHmmTx',\n",
       " 'cHmmTxWk',\n",
       " 'cHmmEnhG',\n",
       " 'cHmmEnh',\n",
       " 'cHmmZnfRpts',\n",
       " 'cHmmHet',\n",
       " 'cHmmTssBiv',\n",
       " 'cHmmBivFlnk',\n",
       " 'cHmmEnhBiv',\n",
       " 'cHmmReprPC',\n",
       " 'cHmmReprPCWk',\n",
       " 'cHmmQuies',\n",
       " 'GerpRS',\n",
       " 'GerpRSpval',\n",
       " 'GerpN',\n",
       " 'GerpS',\n",
       " 'TFBS',\n",
       " 'TFBSPeaks',\n",
       " 'TFBSPeaksMax',\n",
       " 'tOverlapMotifs',\n",
       " 'motifDist',\n",
       " 'Segway',\n",
       " 'EncH3K27Ac',\n",
       " 'EncH3K4Me1',\n",
       " 'EncH3K4Me3',\n",
       " 'EncExp',\n",
       " 'EncNucleo',\n",
       " 'EncOCC',\n",
       " 'EncOCCombPVal',\n",
       " 'EncOCDNasePVal',\n",
       " 'EncOCFairePVal',\n",
       " 'EncOCpolIIPVal',\n",
       " 'EncOCctcfPVal',\n",
       " 'EncOCmycPVal',\n",
       " 'EncOCDNaseSig',\n",
       " 'EncOCFaireSig',\n",
       " 'EncOCpolIISig',\n",
       " 'EncOCctcfSig',\n",
       " 'EncOCmycSig',\n",
       " 'Grantham',\n",
       " 'Dist2Mutation',\n",
       " 'Freq100bp',\n",
       " 'Rare100bp',\n",
       " 'Sngl100bp',\n",
       " 'Freq1000bp',\n",
       " 'Rare1000bp',\n",
       " 'Sngl1000bp',\n",
       " 'Freq10000bp',\n",
       " 'Rare10000bp',\n",
       " 'Sngl10000bp',\n",
       " 'dbscSNV-ada_score',\n",
       " 'dbscSNV-rf_score',\n",
       " 'RawScore',\n",
       " 'PHRED',\n",
       " 'Allergy/Immunology/Infectious',\n",
       " 'Audiologic/Otolaryngologic',\n",
       " 'Biochemical',\n",
       " 'Cardiovascular',\n",
       " 'Craniofacial',\n",
       " 'Dental',\n",
       " 'Dermatologic',\n",
       " 'Endocrine',\n",
       " 'Gastrointestinal',\n",
       " 'General',\n",
       " 'Genitourinary',\n",
       " 'Hematologic',\n",
       " 'Musculoskeletal',\n",
       " 'Neurologic',\n",
       " 'Obstetric',\n",
       " 'Oncologic',\n",
       " 'Ophthalmologic',\n",
       " 'Pulmonary',\n",
       " 'Renal',\n",
       " 'Stars',\n",
       " 'allvalid',\n",
       " 'binarized_label',\n",
       " 'chr_pos_ref_alt',\n",
       " 'chr_pos_ref_alt_gene',\n",
       " 'clinpred',\n",
       " 'fathmm_score',\n",
       " 'inClinvar',\n",
       " 'inClinvar1Star',\n",
       " 'inClinvar2Star',\n",
       " 'inTest',\n",
       " 'inVKGLInsertion',\n",
       " 'inheritance',\n",
       " 'isAR',\n",
       " 'isInsertion',\n",
       " 'isPopulation',\n",
       " 'isVKGL_needsFurtherCorrection',\n",
       " 'label',\n",
       " 'max_AF',\n",
       " 'notinTest1',\n",
       " 'oldTestset',\n",
       " 'provean',\n",
       " 'revel',\n",
       " 'sample_weight',\n",
       " 'sift',\n",
       " 'source',\n",
       " 'to_be_deleted',\n",
       " 'ReMM_score',\n",
       " 'NCBoost_Score',\n",
       " 'NCBoost_Score-merged-chrom-pos',\n",
       " 'NCBoost_precomputed_score',\n",
       " 'NCBoost_precomputed_chr_rank_perc',\n",
       " 'NCBoost_precomputed_score-merged-chrom-pos',\n",
       " 'NCBoost_precomputed_chr_rank_perc-merged-chrom-pos',\n",
       " 'DeepSEA_Functional_significance_score',\n",
       " 'Eigen-raw',\n",
       " 'Eigen-phred',\n",
       " 'Eigen-PC-raw',\n",
       " 'Eigen-PC-phred',\n",
       " 'Eigen-raw-scaled',\n",
       " 'Eigen PC-raw-scaled']"
      ]
     },
     "execution_count": 216,
     "metadata": {},
     "output_type": "execute_result"
    }
   ],
   "source": [
    "data_snvs.columns.tolist()"
   ]
  },
  {
   "cell_type": "code",
   "execution_count": 218,
   "metadata": {},
   "outputs": [
    {
     "data": {
      "text/plain": [
       "SNV    71512\n",
       "DEL     6380\n",
       "INS     4296\n",
       "Name: Type, dtype: int64"
      ]
     },
     "execution_count": 218,
     "metadata": {},
     "output_type": "execute_result"
    }
   ],
   "source": [
    "data.Type.value_counts()"
   ]
  },
  {
   "cell_type": "markdown",
   "metadata": {},
   "source": [
    "<h3>Precision recall curves</h3>"
   ]
  },
  {
   "cell_type": "code",
   "execution_count": 8,
   "metadata": {},
   "outputs": [
    {
     "name": "stdout",
     "output_type": "stream",
     "text": [
      "Benign        79577\n",
      "Pathogenic     2611\n",
      "Name: label, dtype: int64\n",
      "Benign        69055\n",
      "Pathogenic     2369\n",
      "Name: label, dtype: int64\n",
      "Benign        63865\n",
      "Pathogenic      884\n",
      "Name: label, dtype: int64\n"
     ]
    }
   ],
   "source": [
    "#Drop NA rows for predictions\n",
    "print(data.label.value_counts())\n",
    "data_snvs = data[data.Ref.apply(lambda x: len(x) == 1) & data.Alt.apply(lambda x: len(x) == 1)]\n",
    "print(data_snvs.label.value_counts())\n",
    "data_filtered = data.dropna(subset=['ReMM_score', 'DeepSEA_Functional_significance_score', 'Eigen-raw-scaled'])\n",
    "print(data_filtered.label.value_counts())"
   ]
  },
  {
   "cell_type": "code",
   "execution_count": 9,
   "metadata": {},
   "outputs": [
    {
     "data": {
      "text/plain": [
       "False    64186\n",
       "True       563\n",
       "Name: NCBoost_data, dtype: int64"
      ]
     },
     "execution_count": 9,
     "metadata": {},
     "output_type": "execute_result"
    }
   ],
   "source": [
    "data_filtered.NCBoost_data.value_counts()"
   ]
  },
  {
   "cell_type": "code",
   "execution_count": 153,
   "metadata": {},
   "outputs": [
    {
     "name": "stderr",
     "output_type": "stream",
     "text": [
      "//anaconda3/envs/py3_vp/lib/python3.7/site-packages/ipykernel_launcher.py:1: UserWarning: Boolean Series key will be reindexed to match DataFrame index.\n",
      "  \"\"\"Entry point for launching an IPython kernel.\n"
     ]
    },
    {
     "data": {
      "text/plain": [
       "5PRIME_UTR          188\n",
       "INTRONIC            183\n",
       "3PRIME_UTR           61\n",
       "UPSTREAM             47\n",
       "DOWNSTREAM           18\n",
       "SPLICE_SITE           3\n",
       "NONCODING_CHANGE      1\n",
       "Name: Consequence, dtype: int64"
      ]
     },
     "execution_count": 153,
     "metadata": {},
     "output_type": "execute_result"
    }
   ],
   "source": [
    "data_filtered[data['label'] == 'Pathogenic'].Consequence.value_counts()"
   ]
  },
  {
   "cell_type": "code",
   "execution_count": 152,
   "metadata": {},
   "outputs": [
    {
     "name": "stderr",
     "output_type": "stream",
     "text": [
      "//anaconda3/envs/py3_vp/lib/python3.7/site-packages/ipykernel_launcher.py:1: UserWarning: Boolean Series key will be reindexed to match DataFrame index.\n",
      "  \"\"\"Entry point for launching an IPython kernel.\n"
     ]
    },
    {
     "data": {
      "text/plain": [
       "INTRONIC            15514\n",
       "3PRIME_UTR           6479\n",
       "DOWNSTREAM           2131\n",
       "5PRIME_UTR            862\n",
       "UPSTREAM              785\n",
       "NONCODING_CHANGE      111\n",
       "Name: Consequence, dtype: int64"
      ]
     },
     "execution_count": 152,
     "metadata": {},
     "output_type": "execute_result"
    }
   ],
   "source": [
    "data_filtered[data['label'] == 'Benign'].Consequence.value_counts()"
   ]
  },
  {
   "cell_type": "code",
   "execution_count": 169,
   "metadata": {},
   "outputs": [
    {
     "data": {
      "text/plain": [
       "Benign        1495\n",
       "Pathogenic      49\n",
       "Name: label, dtype: int64"
      ]
     },
     "execution_count": 169,
     "metadata": {},
     "output_type": "execute_result"
    }
   ],
   "source": [
    "#Only use sample weight == 1\n",
    "data_high_confidence = data_filtered[data_filtered.sample_weight==1]\n",
    "data_high_confidence.label.value_counts()"
   ]
  },
  {
   "cell_type": "code",
   "execution_count": 148,
   "metadata": {},
   "outputs": [
    {
     "data": {
      "text/plain": [
       "INTRONIC            1304\n",
       "5PRIME_UTR           118\n",
       "3PRIME_UTR            86\n",
       "UPSTREAM              17\n",
       "DOWNSTREAM            16\n",
       "NONCODING_CHANGE       3\n",
       "Name: Consequence, dtype: int64"
      ]
     },
     "execution_count": 148,
     "metadata": {},
     "output_type": "execute_result"
    }
   ],
   "source": [
    "data_high_confidence.Consequence.value_counts()"
   ]
  },
  {
   "cell_type": "code",
   "execution_count": 170,
   "metadata": {},
   "outputs": [],
   "source": [
    "def plot_precision_recall_curve(df, cols):\n",
    "    pr = {}\n",
    "    for tool in cols:\n",
    "        p, r, t = precision_recall_curve(df['binarized_label'], df[tool])\n",
    "        pr[tool] = {'p': p, 'r': r, 't':t}\n",
    "\n",
    "    plt.figure(figsize=(9, 5))\n",
    "    for t in pr:\n",
    "        plt.plot(pr[t]['r'], pr[t]['p'], label='{} (AUC: {})'.format(t, round(auc(pr[t]['r'], pr[t]['p']), 2)))\n",
    "    plt.legend()"
   ]
  },
  {
   "cell_type": "code",
   "execution_count": 180,
   "metadata": {},
   "outputs": [
    {
     "data": {
      "image/png": "[encoded data removed]",
      "text/plain": [
       "<Figure size 648x360 with 1 Axes>"
      ]
     },
     "metadata": {
      "needs_background": "light"
     },
     "output_type": "display_data"
    }
   ],
   "source": [
    "plot_precision_recall_curve(data_high_confidence, cols=['ReMM_score', 'NCBoost_Score', 'DeepSEA_Functional_significance_score', 'Eigen-raw-scaled'])"
   ]
  },
  {
   "cell_type": "code",
   "execution_count": 181,
   "metadata": {},
   "outputs": [
    {
     "data": {
      "image/png": "[encoded data removed]",
      "text/plain": [
       "<Figure size 648x360 with 1 Axes>"
      ]
     },
     "metadata": {
      "needs_background": "light"
     },
     "output_type": "display_data"
    }
   ],
   "source": [
    "plot_precision_recall_curve(data_filtered, cols=['ReMM_score', 'NCBoost_Score', 'DeepSEA_Functional_significance_score', 'Eigen-raw-scaled'])"
   ]
  },
  {
   "cell_type": "code",
   "execution_count": null,
   "metadata": {},
   "outputs": [],
   "source": []
  },
  {
   "cell_type": "code",
   "execution_count": 146,
   "metadata": {},
   "outputs": [
    {
     "data": {
      "text/plain": [
       "<matplotlib.axes._subplots.AxesSubplot at 0x1a235bf090>"
      ]
     },
     "execution_count": 146,
     "metadata": {},
     "output_type": "execute_result"
    },
    {
     "data": {
      "image/png": "[encoded data removed]",
      "text/plain": [
       "<Figure size 432x288 with 1 Axes>"
      ]
     },
     "metadata": {
      "needs_background": "light"
     },
     "output_type": "display_data"
    }
   ],
   "source": [
    "sns.violinplot(x='ReMM_score', y=\"Consequence\", hue='label', data=data_filtered, palette=\"muted\", split=True)"
   ]
  },
  {
   "cell_type": "code",
   "execution_count": 147,
   "metadata": {},
   "outputs": [
    {
     "data": {
      "text/plain": [
       "<matplotlib.axes._subplots.AxesSubplot at 0x1a2b214b90>"
      ]
     },
     "execution_count": 147,
     "metadata": {},
     "output_type": "execute_result"
    },
    {
     "data": {
      "image/png": "[encoded data removed]",
      "text/plain": [
       "<Figure size 432x288 with 1 Axes>"
      ]
     },
     "metadata": {
      "needs_background": "light"
     },
     "output_type": "display_data"
    }
   ],
   "source": [
    "sns.violinplot(x='Eigen-raw-scaled', y=\"Consequence\", hue='label', data=data_filtered, palette=\"muted\", split=True)"
   ]
  },
  {
   "cell_type": "code",
   "execution_count": 236,
   "metadata": {},
   "outputs": [],
   "source": [
    "#sns.boxplot(x='ReMM_score', y=\"Consequence\", hue='label', data=train_filtered, palette=\"muted\")"
   ]
  },
  {
   "cell_type": "code",
   "execution_count": 237,
   "metadata": {},
   "outputs": [
    {
     "data": {
      "text/plain": [
       "Text(0.5, 1.0, 'INTRONIC')"
      ]
     },
     "execution_count": 237,
     "metadata": {},
     "output_type": "execute_result"
    },
    {
     "data": {
      "image/png": "[encoded data removed]",
      "text/plain": [
       "<Figure size 432x288 with 1 Axes>"
      ]
     },
     "metadata": {
      "needs_background": "light"
     },
     "output_type": "display_data"
    }
   ],
   "source": [
    "#df = pd.melt(train[tools + ['label']], id_vars='label', value_vars=tools)\n",
    "sns.boxplot(x='value', y='variable', hue='label', data=pd.melt(train[train.Consequence=='INTRONIC'][tools + ['label']], value_vars=tools, id_vars='label')).set_title('INTRONIC')"
   ]
  },
  {
   "cell_type": "code",
   "execution_count": 238,
   "metadata": {},
   "outputs": [
    {
     "data": {
      "text/plain": [
       "Text(0.5, 1.0, 'DOWNSTREAM')"
      ]
     },
     "execution_count": 238,
     "metadata": {},
     "output_type": "execute_result"
    },
    {
     "data": {
      "image/png": "[encoded data removed]",
      "text/plain": [
       "<Figure size 432x288 with 1 Axes>"
      ]
     },
     "metadata": {
      "needs_background": "light"
     },
     "output_type": "display_data"
    }
   ],
   "source": [
    "sns.boxplot(x='value', y='variable', hue='label', data=pd.melt(train[train.Consequence=='DOWNSTREAM'][tools + ['label']], value_vars=tools, id_vars='label')).set_title('DOWNSTREAM')"
   ]
  },
  {
   "cell_type": "code",
   "execution_count": null,
   "metadata": {},
   "outputs": [],
   "source": []
  },
  {
   "cell_type": "code",
   "execution_count": null,
   "metadata": {},
   "outputs": [],
   "source": []
  },
  {
   "cell_type": "code",
   "execution_count": 178,
   "metadata": {},
   "outputs": [
    {
     "data": {
      "text/plain": [
       "array([[  203,   103],\n",
       "       [10827, 49139]])"
      ]
     },
     "execution_count": 178,
     "metadata": {},
     "output_type": "execute_result"
    }
   ],
   "source": [
    "confusion_matrix(train_filtered['binarized_label'], train_filtered['ReMM_score'].apply(lambda x: 1 if x > 0.8 else 0), labels=[1,0])"
   ]
  },
  {
   "cell_type": "code",
   "execution_count": null,
   "metadata": {},
   "outputs": [],
   "source": []
  },
  {
   "cell_type": "code",
   "execution_count": 199,
   "metadata": {},
   "outputs": [
    {
     "data": {
      "text/html": [
       "<div>\n",
       "<style scoped>\n",
       "    .dataframe tbody tr th:only-of-type {\n",
       "        vertical-align: middle;\n",
       "    }\n",
       "\n",
       "    .dataframe tbody tr th {\n",
       "        vertical-align: top;\n",
       "    }\n",
       "\n",
       "    .dataframe thead th {\n",
       "        text-align: right;\n",
       "    }\n",
       "</style>\n",
       "<table border=\"1\" class=\"dataframe\">\n",
       "  <thead>\n",
       "    <tr style=\"text-align: right;\">\n",
       "      <th></th>\n",
       "      <th>#Chrom</th>\n",
       "      <th>Pos</th>\n",
       "      <th>label</th>\n",
       "      <th>NCBoost_Score</th>\n",
       "    </tr>\n",
       "  </thead>\n",
       "  <tbody>\n",
       "    <tr>\n",
       "      <td>0</td>\n",
       "      <td>1</td>\n",
       "      <td>21835920</td>\n",
       "      <td>Pathogenic</td>\n",
       "      <td>0.043725</td>\n",
       "    </tr>\n",
       "    <tr>\n",
       "      <td>1</td>\n",
       "      <td>1</td>\n",
       "      <td>55505180</td>\n",
       "      <td>Pathogenic</td>\n",
       "      <td>0.271459</td>\n",
       "    </tr>\n",
       "    <tr>\n",
       "      <td>2</td>\n",
       "      <td>1</td>\n",
       "      <td>113498814</td>\n",
       "      <td>Pathogenic</td>\n",
       "      <td>0.286262</td>\n",
       "    </tr>\n",
       "    <tr>\n",
       "      <td>3</td>\n",
       "      <td>1</td>\n",
       "      <td>209975332</td>\n",
       "      <td>Pathogenic</td>\n",
       "      <td>0.233192</td>\n",
       "    </tr>\n",
       "    <tr>\n",
       "      <td>4</td>\n",
       "      <td>1</td>\n",
       "      <td>209975361</td>\n",
       "      <td>Pathogenic</td>\n",
       "      <td>0.081881</td>\n",
       "    </tr>\n",
       "    <tr>\n",
       "      <td>5</td>\n",
       "      <td>1</td>\n",
       "      <td>209979367</td>\n",
       "      <td>Pathogenic</td>\n",
       "      <td>0.161182</td>\n",
       "    </tr>\n",
       "    <tr>\n",
       "      <td>6</td>\n",
       "      <td>1</td>\n",
       "      <td>209979435</td>\n",
       "      <td>Pathogenic</td>\n",
       "      <td>0.189841</td>\n",
       "    </tr>\n",
       "    <tr>\n",
       "      <td>7</td>\n",
       "      <td>1</td>\n",
       "      <td>216596610</td>\n",
       "      <td>Pathogenic</td>\n",
       "      <td>0.257114</td>\n",
       "    </tr>\n",
       "    <tr>\n",
       "      <td>8</td>\n",
       "      <td>1</td>\n",
       "      <td>228337561</td>\n",
       "      <td>Pathogenic</td>\n",
       "      <td>0.467702</td>\n",
       "    </tr>\n",
       "    <tr>\n",
       "      <td>9</td>\n",
       "      <td>10</td>\n",
       "      <td>27389371</td>\n",
       "      <td>Pathogenic</td>\n",
       "      <td>0.162982</td>\n",
       "    </tr>\n",
       "    <tr>\n",
       "      <td>10</td>\n",
       "      <td>10</td>\n",
       "      <td>27389373</td>\n",
       "      <td>Pathogenic</td>\n",
       "      <td>0.196699</td>\n",
       "    </tr>\n",
       "    <tr>\n",
       "      <td>11</td>\n",
       "      <td>10</td>\n",
       "      <td>27389374</td>\n",
       "      <td>Pathogenic</td>\n",
       "      <td>0.230972</td>\n",
       "    </tr>\n",
       "    <tr>\n",
       "      <td>12</td>\n",
       "      <td>10</td>\n",
       "      <td>27389374</td>\n",
       "      <td>Pathogenic</td>\n",
       "      <td>0.230972</td>\n",
       "    </tr>\n",
       "    <tr>\n",
       "      <td>13</td>\n",
       "      <td>10</td>\n",
       "      <td>27389376</td>\n",
       "      <td>Pathogenic</td>\n",
       "      <td>0.183063</td>\n",
       "    </tr>\n",
       "    <tr>\n",
       "      <td>14</td>\n",
       "      <td>10</td>\n",
       "      <td>27389381</td>\n",
       "      <td>Pathogenic</td>\n",
       "      <td>0.174151</td>\n",
       "    </tr>\n",
       "    <tr>\n",
       "      <td>15</td>\n",
       "      <td>10</td>\n",
       "      <td>27389381</td>\n",
       "      <td>Pathogenic</td>\n",
       "      <td>0.174151</td>\n",
       "    </tr>\n",
       "    <tr>\n",
       "      <td>16</td>\n",
       "      <td>10</td>\n",
       "      <td>27389382</td>\n",
       "      <td>Pathogenic</td>\n",
       "      <td>0.175021</td>\n",
       "    </tr>\n",
       "    <tr>\n",
       "      <td>17</td>\n",
       "      <td>10</td>\n",
       "      <td>27389382</td>\n",
       "      <td>Pathogenic</td>\n",
       "      <td>0.175021</td>\n",
       "    </tr>\n",
       "    <tr>\n",
       "      <td>18</td>\n",
       "      <td>10</td>\n",
       "      <td>27389383</td>\n",
       "      <td>Pathogenic</td>\n",
       "      <td>0.056018</td>\n",
       "    </tr>\n",
       "    <tr>\n",
       "      <td>19</td>\n",
       "      <td>10</td>\n",
       "      <td>27389383</td>\n",
       "      <td>Pathogenic</td>\n",
       "      <td>0.056018</td>\n",
       "    </tr>\n",
       "  </tbody>\n",
       "</table>\n",
       "</div>"
      ],
      "text/plain": [
       "   #Chrom        Pos       label  NCBoost_Score\n",
       "0       1   21835920  Pathogenic       0.043725\n",
       "1       1   55505180  Pathogenic       0.271459\n",
       "2       1  113498814  Pathogenic       0.286262\n",
       "3       1  209975332  Pathogenic       0.233192\n",
       "4       1  209975361  Pathogenic       0.081881\n",
       "5       1  209979367  Pathogenic       0.161182\n",
       "6       1  209979435  Pathogenic       0.189841\n",
       "7       1  216596610  Pathogenic       0.257114\n",
       "8       1  228337561  Pathogenic       0.467702\n",
       "9      10   27389371  Pathogenic       0.162982\n",
       "10     10   27389373  Pathogenic       0.196699\n",
       "11     10   27389374  Pathogenic       0.230972\n",
       "12     10   27389374  Pathogenic       0.230972\n",
       "13     10   27389376  Pathogenic       0.183063\n",
       "14     10   27389381  Pathogenic       0.174151\n",
       "15     10   27389381  Pathogenic       0.174151\n",
       "16     10   27389382  Pathogenic       0.175021\n",
       "17     10   27389382  Pathogenic       0.175021\n",
       "18     10   27389383  Pathogenic       0.056018\n",
       "19     10   27389383  Pathogenic       0.056018"
      ]
     },
     "execution_count": 199,
     "metadata": {},
     "output_type": "execute_result"
    }
   ],
   "source": [
    "data_filtered[data_filtered.NCBoost_data][['#Chrom', 'Pos', 'label', 'NCBoost_Score']].head(20)"
   ]
  },
  {
   "cell_type": "code",
   "execution_count": null,
   "metadata": {},
   "outputs": [],
   "source": []
  },
  {
   "cell_type": "code",
   "execution_count": null,
   "metadata": {},
   "outputs": [],
   "source": []
  },
  {
   "cell_type": "code",
   "execution_count": 179,
   "metadata": {},
   "outputs": [
    {
     "data": {
      "text/plain": [
       "Benign        79367\n",
       "Pathogenic     1773\n",
       "Name: label, dtype: int64"
      ]
     },
     "execution_count": 179,
     "metadata": {},
     "output_type": "execute_result"
    }
   ],
   "source": [
    "train.label.value_counts()"
   ]
  },
  {
   "cell_type": "code",
   "execution_count": 193,
   "metadata": {},
   "outputs": [
    {
     "data": {
      "text/plain": [
       "Benign        59966\n",
       "Pathogenic      306\n",
       "Name: label, dtype: int64"
      ]
     },
     "execution_count": 193,
     "metadata": {},
     "output_type": "execute_result"
    }
   ],
   "source": [
    "train_filtered.label.value_counts()"
   ]
  },
  {
   "cell_type": "code",
   "execution_count": 195,
   "metadata": {},
   "outputs": [
    {
     "data": {
      "text/plain": [
       "Benign        1967\n",
       "Pathogenic      98\n",
       "Name: label, dtype: int64"
      ]
     },
     "execution_count": 195,
     "metadata": {},
     "output_type": "execute_result"
    }
   ],
   "source": [
    "train_high_confidence.label.value_counts()"
   ]
  },
  {
   "cell_type": "code",
   "execution_count": 200,
   "metadata": {},
   "outputs": [
    {
     "name": "stdout",
     "output_type": "stream",
     "text": [
      "INTRONIC            115\n",
      "DOWNSTREAM           91\n",
      "UPSTREAM             81\n",
      "NONCODING_CHANGE     17\n",
      "3PRIME_UTR            2\n",
      "Name: Consequence, dtype: int64\n",
      "INTRONIC            32037\n",
      "DOWNSTREAM          12088\n",
      "3PRIME_UTR           7160\n",
      "UPSTREAM             6748\n",
      "NONCODING_CHANGE      968\n",
      "5PRIME_UTR            959\n",
      "INTERGENIC              6\n",
      "Name: Consequence, dtype: int64\n"
     ]
    }
   ],
   "source": [
    "print(train_filtered[train_filtered.label == 'Pathogenic']['Consequence'].value_counts())\n",
    "print(train_filtered[train_filtered.label == 'Benign']['Consequence'].value_counts())"
   ]
  },
  {
   "cell_type": "code",
   "execution_count": 202,
   "metadata": {},
   "outputs": [],
   "source": [
    "test = pd.read_csv('../data/test_nc.txt', sep='\\t')"
   ]
  },
  {
   "cell_type": "code",
   "execution_count": 239,
   "metadata": {},
   "outputs": [
    {
     "name": "stdout",
     "output_type": "stream",
     "text": [
      "DOWNSTREAM          109\n",
      "UPSTREAM             65\n",
      "INTRONIC             30\n",
      "NONCODING_CHANGE      7\n",
      "5PRIME_UTR            4\n",
      "Name: Consequence, dtype: int64\n",
      "DOWNSTREAM          109\n",
      "UPSTREAM             65\n",
      "INTRONIC             30\n",
      "NONCODING_CHANGE      7\n",
      "5PRIME_UTR            4\n",
      "Name: Consequence, dtype: int64\n"
     ]
    }
   ],
   "source": [
    "print(test[test.label == 'Pathogenic']['Consequence'].value_counts())\n",
    "print(test[test.label == 'Benign']['Consequence'].value_counts())"
   ]
  },
  {
   "cell_type": "code",
   "execution_count": null,
   "metadata": {},
   "outputs": [],
   "source": [
    "#allele frequency\n",
    "#consequence\n"
   ]
  },
  {
   "cell_type": "code",
   "execution_count": null,
   "metadata": {},
   "outputs": [],
   "source": []
  },
  {
   "cell_type": "code",
   "execution_count": null,
   "metadata": {},
   "outputs": [],
   "source": []
  },
  {
   "cell_type": "code",
   "execution_count": null,
   "metadata": {},
   "outputs": [],
   "source": []
  }
 ],
 "metadata": {
  "kernelspec": {
   "display_name": "Python (py3_vp)",
   "language": "python",
   "name": "py3_vp"
  },
  "language_info": {
   "codemirror_mode": {
    "name": "ipython",
    "version": 3
   },
   "file_extension": ".py",
   "mimetype": "text/x-python",
   "name": "python",
   "nbconvert_exporter": "python",
   "pygments_lexer": "ipython3",
   "version": "3.7.4"
  }
 },
 "nbformat": 4,
 "nbformat_minor": 2
}
